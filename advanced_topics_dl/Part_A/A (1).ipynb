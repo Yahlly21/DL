{
 "cells": [
  {
   "cell_type": "code",
   "execution_count": 37,
   "id": "0e096415-b0c8-4634-b5de-d5c0d9e671bf",
   "metadata": {
    "execution": {
     "iopub.execute_input": "2024-08-27T07:57:11.322892Z",
     "iopub.status.busy": "2024-08-27T07:57:11.322460Z",
     "iopub.status.idle": "2024-08-27T07:57:11.327867Z",
     "shell.execute_reply": "2024-08-27T07:57:11.326970Z",
     "shell.execute_reply.started": "2024-08-27T07:57:11.322855Z"
    },
    "tags": []
   },
   "outputs": [],
   "source": [
    "# !pip install seaborn\n",
    "# !pip install wordcloud\n",
    "# !pip install plotly \n",
    "# !pip install textstat\n",
    "# !pip install nltk"
   ]
  },
  {
   "cell_type": "markdown",
   "id": "68c7f4b6-49a8-440d-8d6a-ff8a45d5cb37",
   "metadata": {},
   "source": [
    "# Imports"
   ]
  },
  {
   "cell_type": "code",
   "execution_count": 2,
   "id": "12e49aa4-f555-4f6b-8d8f-309c391594a9",
   "metadata": {
    "execution": {
     "iopub.execute_input": "2024-08-27T07:11:05.102822Z",
     "iopub.status.busy": "2024-08-27T07:11:05.102462Z",
     "iopub.status.idle": "2024-08-27T07:11:06.885885Z",
     "shell.execute_reply": "2024-08-27T07:11:06.884854Z",
     "shell.execute_reply.started": "2024-08-27T07:11:05.102784Z"
    },
    "tags": []
   },
   "outputs": [
    {
     "name": "stderr",
     "output_type": "stream",
     "text": [
      "/opt/conda/lib/python3.7/site-packages/tqdm/auto.py:22: TqdmWarning: IProgress not found. Please update jupyter and ipywidgets. See https://ipywidgets.readthedocs.io/en/stable/user_install.html\n",
      "  from .autonotebook import tqdm as notebook_tqdm\n"
     ]
    }
   ],
   "source": [
    "import pandas as pd\n",
    "import numpy as np\n",
    "import os\n",
    "from pathlib import Path\n",
    "import torch\n",
    "import torch.nn as nn\n",
    "import torch.nn.functional as F\n",
    "import string\n",
    "\n",
    "import matplotlib.pyplot as plt\n",
    "import seaborn as sns\n",
    "import plotly.express as px"
   ]
  },
  {
   "cell_type": "code",
   "execution_count": 3,
   "id": "66ba3df0-7b19-4a91-9977-13380df4d620",
   "metadata": {
    "execution": {
     "iopub.execute_input": "2024-08-27T07:11:06.887208Z",
     "iopub.status.busy": "2024-08-27T07:11:06.886934Z",
     "iopub.status.idle": "2024-08-27T07:11:07.254810Z",
     "shell.execute_reply": "2024-08-27T07:11:07.253817Z",
     "shell.execute_reply.started": "2024-08-27T07:11:06.887189Z"
    },
    "tags": []
   },
   "outputs": [],
   "source": [
    "from collections import Counter\n",
    "from wordcloud import WordCloud\n",
    "import nltk\n",
    "from nltk.corpus import stopwords\n",
    "from nltk.tokenize import word_tokenize\n",
    "from nltk.util import ngrams\n",
    "from sklearn.feature_extraction.text import TfidfVectorizer\n",
    "from nltk.sentiment.vader import SentimentIntensityAnalyzer\n",
    "from textstat import flesch_reading_ease, flesch_kincaid_grade"
   ]
  },
  {
   "cell_type": "code",
   "execution_count": 4,
   "id": "98456ee1-f35a-4235-b883-53a1e7f04cfa",
   "metadata": {
    "execution": {
     "iopub.execute_input": "2024-08-27T07:11:07.256740Z",
     "iopub.status.busy": "2024-08-27T07:11:07.256484Z",
     "iopub.status.idle": "2024-08-27T07:11:08.765782Z",
     "shell.execute_reply": "2024-08-27T07:11:08.764841Z",
     "shell.execute_reply.started": "2024-08-27T07:11:07.256722Z"
    },
    "tags": []
   },
   "outputs": [
    {
     "name": "stderr",
     "output_type": "stream",
     "text": [
      "[nltk_data] Downloading package stopwords to /root/nltk_data...\n",
      "[nltk_data]   Unzipping corpora/stopwords.zip.\n",
      "[nltk_data] Downloading package punkt to /root/nltk_data...\n",
      "[nltk_data]   Unzipping tokenizers/punkt.zip.\n",
      "[nltk_data] Downloading package vader_lexicon to /root/nltk_data...\n"
     ]
    },
    {
     "data": {
      "text/plain": [
       "True"
      ]
     },
     "execution_count": 4,
     "metadata": {},
     "output_type": "execute_result"
    }
   ],
   "source": [
    "nltk.download('stopwords')\n",
    "stop_words = set(stopwords.words('english'))\n",
    "nltk.download('punkt')\n",
    "nltk.download('vader_lexicon')"
   ]
  },
  {
   "cell_type": "markdown",
   "id": "af9ecfa0-922d-4a56-a7ba-dbf91e6ac875",
   "metadata": {},
   "source": [
    "# Inital Exploration"
   ]
  },
  {
   "cell_type": "code",
   "execution_count": 5,
   "id": "e99cbaf0-bfd5-4295-b447-6b1cf6667fa6",
   "metadata": {
    "execution": {
     "iopub.execute_input": "2024-08-27T07:11:08.767083Z",
     "iopub.status.busy": "2024-08-27T07:11:08.766913Z",
     "iopub.status.idle": "2024-08-27T07:11:08.800101Z",
     "shell.execute_reply": "2024-08-27T07:11:08.799109Z",
     "shell.execute_reply.started": "2024-08-27T07:11:08.767065Z"
    },
    "tags": []
   },
   "outputs": [],
   "source": [
    "export_dir = Path(os.getcwd()).parent\n",
    "data_path = Path(export_dir, \"data\")\n",
    "device = torch.device(\"cuda\" if torch.cuda.is_available() else \"cpu\")"
   ]
  },
  {
   "cell_type": "code",
   "execution_count": 6,
   "id": "96609d6d-0bd1-4d56-a5bb-81b8e5d22823",
   "metadata": {
    "execution": {
     "iopub.execute_input": "2024-08-27T07:11:08.801169Z",
     "iopub.status.busy": "2024-08-27T07:11:08.801002Z",
     "iopub.status.idle": "2024-08-27T07:11:09.685709Z",
     "shell.execute_reply": "2024-08-27T07:11:09.684724Z",
     "shell.execute_reply.started": "2024-08-27T07:11:08.801154Z"
    },
    "tags": []
   },
   "outputs": [],
   "source": [
    "df = pd.read_csv(Path(data_path, \"phishing_email.csv\"))\n",
    "# df = pd.read_csv(Path(data_path, \"CEAS_08.csv\"))"
   ]
  },
  {
   "cell_type": "code",
   "execution_count": 7,
   "id": "b55429a1-75ec-4147-abd1-078ba93de407",
   "metadata": {
    "execution": {
     "iopub.execute_input": "2024-08-27T07:11:09.686827Z",
     "iopub.status.busy": "2024-08-27T07:11:09.686660Z",
     "iopub.status.idle": "2024-08-27T07:11:09.696657Z",
     "shell.execute_reply": "2024-08-27T07:11:09.695696Z",
     "shell.execute_reply.started": "2024-08-27T07:11:09.686810Z"
    },
    "tags": []
   },
   "outputs": [
    {
     "data": {
      "text/html": [
       "<div>\n",
       "<style scoped>\n",
       "    .dataframe tbody tr th:only-of-type {\n",
       "        vertical-align: middle;\n",
       "    }\n",
       "\n",
       "    .dataframe tbody tr th {\n",
       "        vertical-align: top;\n",
       "    }\n",
       "\n",
       "    .dataframe thead th {\n",
       "        text-align: right;\n",
       "    }\n",
       "</style>\n",
       "<table border=\"1\" class=\"dataframe\">\n",
       "  <thead>\n",
       "    <tr style=\"text-align: right;\">\n",
       "      <th></th>\n",
       "      <th>text_combined</th>\n",
       "      <th>label</th>\n",
       "    </tr>\n",
       "  </thead>\n",
       "  <tbody>\n",
       "    <tr>\n",
       "      <th>0</th>\n",
       "      <td>hpl nom may 25 2001 see attached file hplno 52...</td>\n",
       "      <td>0</td>\n",
       "    </tr>\n",
       "    <tr>\n",
       "      <th>1</th>\n",
       "      <td>nom actual vols 24 th forwarded sabrae zajac h...</td>\n",
       "      <td>0</td>\n",
       "    </tr>\n",
       "    <tr>\n",
       "      <th>2</th>\n",
       "      <td>enron actuals march 30 april 1 201 estimated a...</td>\n",
       "      <td>0</td>\n",
       "    </tr>\n",
       "    <tr>\n",
       "      <th>3</th>\n",
       "      <td>hpl nom may 30 2001 see attached file hplno 53...</td>\n",
       "      <td>0</td>\n",
       "    </tr>\n",
       "    <tr>\n",
       "      <th>4</th>\n",
       "      <td>hpl nom june 1 2001 see attached file hplno 60...</td>\n",
       "      <td>0</td>\n",
       "    </tr>\n",
       "  </tbody>\n",
       "</table>\n",
       "</div>"
      ],
      "text/plain": [
       "                                       text_combined  label\n",
       "0  hpl nom may 25 2001 see attached file hplno 52...      0\n",
       "1  nom actual vols 24 th forwarded sabrae zajac h...      0\n",
       "2  enron actuals march 30 april 1 201 estimated a...      0\n",
       "3  hpl nom may 30 2001 see attached file hplno 53...      0\n",
       "4  hpl nom june 1 2001 see attached file hplno 60...      0"
      ]
     },
     "execution_count": 7,
     "metadata": {},
     "output_type": "execute_result"
    }
   ],
   "source": [
    "df.head()"
   ]
  },
  {
   "cell_type": "code",
   "execution_count": 8,
   "id": "ca7be55b-40b3-4aa1-be13-9cc4039757b5",
   "metadata": {
    "execution": {
     "iopub.execute_input": "2024-08-27T07:11:09.698478Z",
     "iopub.status.busy": "2024-08-27T07:11:09.698116Z",
     "iopub.status.idle": "2024-08-27T07:11:09.718932Z",
     "shell.execute_reply": "2024-08-27T07:11:09.717748Z",
     "shell.execute_reply.started": "2024-08-27T07:11:09.698441Z"
    },
    "tags": []
   },
   "outputs": [
    {
     "name": "stdout",
     "output_type": "stream",
     "text": [
      "The df shpe is: (82486, 2)\n",
      "Some more infornation:\n",
      "<class 'pandas.core.frame.DataFrame'>\n",
      "RangeIndex: 82486 entries, 0 to 82485\n",
      "Data columns (total 2 columns):\n",
      " #   Column         Non-Null Count  Dtype \n",
      "---  ------         --------------  ----- \n",
      " 0   text_combined  82486 non-null  object\n",
      " 1   label          82486 non-null  int64 \n",
      "dtypes: int64(1), object(1)\n",
      "memory usage: 1.3+ MB\n",
      "None\n"
     ]
    }
   ],
   "source": [
    "print(f\"The df shpe is: {df.shape}\")\n",
    "print(\"Some more infornation:\")\n",
    "print(df.info())"
   ]
  },
  {
   "cell_type": "markdown",
   "id": "5300d9bf-7f5a-482e-bda4-ed6eef6a7bbd",
   "metadata": {},
   "source": [
    "## Look at a specific row for better understanding "
   ]
  },
  {
   "cell_type": "code",
   "execution_count": 9,
   "id": "91ae7246-ee6e-4023-ab45-6465bf98e536",
   "metadata": {
    "execution": {
     "iopub.execute_input": "2024-08-27T07:11:09.721241Z",
     "iopub.status.busy": "2024-08-27T07:11:09.720416Z",
     "iopub.status.idle": "2024-08-27T07:11:09.726701Z",
     "shell.execute_reply": "2024-08-27T07:11:09.725873Z",
     "shell.execute_reply.started": "2024-08-27T07:11:09.721201Z"
    },
    "tags": []
   },
   "outputs": [
    {
     "name": "stdout",
     "output_type": "stream",
     "text": [
      "1\n",
      "ein news peeuropeaninternetcom dear sirmadam name petr stanek managing iraq today news service wwweuropeaninternetcomiraq iraq today contains hourly updated breaking news headlines exchange rates market news important information associates free trial subscription iraq today access collection 25000 daily updated articles news archive many benefits trial free subscribe reply email sign httpwwweuropeaninternetcomloginaffiliate_registerphp3 partial list current ein subscribers found httpwwweuropeaninternetcommediakit questions comments need assistance signing please contact us personally either writing helpdeskeuropeaninternetcom simply replying email please feel free forward offer colleagues best regards petr stanek subscription department ein news removed please reply removeeuropeaninternetcom wed 28 aug 2002 155844 0200 cest iraq today daily news free trial\n"
     ]
    }
   ],
   "source": [
    "num_row = 76001\n",
    "print(df['label'].iloc[num_row])\n",
    "print(df['text_combined'].iloc[num_row])"
   ]
  },
  {
   "cell_type": "markdown",
   "id": "8c590860-7b4a-4fb1-a193-bb6c59c63d5f",
   "metadata": {
    "tags": []
   },
   "source": [
    "# Data exploratrion"
   ]
  },
  {
   "cell_type": "markdown",
   "id": "67ec35a0-bef9-4528-9794-dcdafe2e422e",
   "metadata": {},
   "source": [
    "## Label Distribution"
   ]
  },
  {
   "cell_type": "code",
   "execution_count": 10,
   "id": "3fefb7b9-6026-4f8c-98e3-c1f94203cddd",
   "metadata": {
    "execution": {
     "iopub.execute_input": "2024-08-27T07:11:09.728965Z",
     "iopub.status.busy": "2024-08-27T07:11:09.728755Z",
     "iopub.status.idle": "2024-08-27T07:11:09.806574Z",
     "shell.execute_reply": "2024-08-27T07:11:09.805902Z",
     "shell.execute_reply.started": "2024-08-27T07:11:09.728944Z"
    },
    "tags": []
   },
   "outputs": [
    {
     "data": {
      "image/png": "[encoded data removed]",
      "text/plain": [
       "<Figure size 576x432 with 1 Axes>"
      ]
     },
     "metadata": {
      "needs_background": "light"
     },
     "output_type": "display_data"
    }
   ],
   "source": [
    "plt.figure(figsize=(8, 6))\n",
    "sns.countplot(x='label', data=df)\n",
    "plt.title('Label Distribution')\n",
    "plt.show()"
   ]
  },
  {
   "cell_type": "markdown",
   "id": "b24c0429-fd7f-4b3c-a865-a2fdebdda2c8",
   "metadata": {},
   "source": [
    "## Text length features"
   ]
  },
  {
   "cell_type": "code",
   "execution_count": 11,
   "id": "f19dfcaf-a7d2-40b9-91e5-c5a4eb4c3599",
   "metadata": {
    "execution": {
     "iopub.execute_input": "2024-08-27T07:11:09.807822Z",
     "iopub.status.busy": "2024-08-27T07:11:09.807518Z",
     "iopub.status.idle": "2024-08-27T07:11:13.174163Z",
     "shell.execute_reply": "2024-08-27T07:11:13.173610Z",
     "shell.execute_reply.started": "2024-08-27T07:11:09.807804Z"
    },
    "tags": []
   },
   "outputs": [
    {
     "name": "stdout",
     "output_type": "stream",
     "text": [
      "count     82486.000000\n",
      "mean        160.627222\n",
      "std         543.720722\n",
      "min           0.000000\n",
      "25%          39.000000\n",
      "50%          79.000000\n",
      "75%         183.000000\n",
      "max      107710.000000\n",
      "Name: text_length, dtype: float64\n"
     ]
    }
   ],
   "source": [
    "# Text Length Features\n",
    "df['char_count'] = df['text_combined'].apply(len)\n",
    "df['text_length'] = df['text_combined'].apply(lambda x: len(x.split()))\n",
    "df['avg_word_length'] = df['text_combined'].apply(lambda x: sum(len(word) for word in x.split()) / len(x.split()) if len(x.split()) > 0 else 0)\n",
    "print(df['text_length'].describe())"
   ]
  },
  {
   "cell_type": "markdown",
   "id": "8a05967d-f852-485f-a785-0f4172f4f95d",
   "metadata": {},
   "source": [
    "## Text Length Distribution"
   ]
  },
  {
   "cell_type": "code",
   "execution_count": 22,
   "id": "adc8956e-2cd6-4697-b84a-b5f71925bfe8",
   "metadata": {
    "execution": {
     "iopub.execute_input": "2024-08-27T07:17:30.762670Z",
     "iopub.status.busy": "2024-08-27T07:17:30.762242Z",
     "iopub.status.idle": "2024-08-27T07:17:30.768087Z",
     "shell.execute_reply": "2024-08-27T07:17:30.766817Z",
     "shell.execute_reply.started": "2024-08-27T07:17:30.762632Z"
    },
    "tags": []
   },
   "outputs": [],
   "source": [
    "filter = 1000 # 98% of the data is in these values"
   ]
  },
  {
   "cell_type": "code",
   "execution_count": 23,
   "id": "b9f97a1f-47f3-4356-a064-8fa21de6a609",
   "metadata": {
    "execution": {
     "iopub.execute_input": "2024-08-27T07:17:31.011546Z",
     "iopub.status.busy": "2024-08-27T07:17:31.011186Z",
     "iopub.status.idle": "2024-08-27T07:17:31.020148Z",
     "shell.execute_reply": "2024-08-27T07:17:31.019100Z",
     "shell.execute_reply.started": "2024-08-27T07:17:31.011510Z"
    },
    "tags": []
   },
   "outputs": [
    {
     "data": {
      "text/plain": [
       "(1078, 6)"
      ]
     },
     "execution_count": 23,
     "metadata": {},
     "output_type": "execute_result"
    }
   ],
   "source": [
    "df[df['text_length'] > filter].shape"
   ]
  },
  {
   "cell_type": "code",
   "execution_count": 36,
   "id": "5ebf6b9f-9c58-43eb-b767-0600a3594126",
   "metadata": {
    "execution": {
     "iopub.execute_input": "2024-08-27T07:28:59.589039Z",
     "iopub.status.busy": "2024-08-27T07:28:59.588602Z",
     "iopub.status.idle": "2024-08-27T07:29:01.686192Z",
     "shell.execute_reply": "2024-08-27T07:29:01.685311Z",
     "shell.execute_reply.started": "2024-08-27T07:28:59.589000Z"
    },
    "tags": []
   },
   "outputs": [
    {
     "data": {
      "image/png": "[encoded data removed]",
      "text/plain": [
       "<Figure size 576x432 with 1 Axes>"
      ]
     },
     "metadata": {
      "needs_background": "light"
     },
     "output_type": "display_data"
    }
   ],
   "source": [
    "plt.figure(figsize=(8, 6))\n",
    "\n",
    "# Plotting the histogram with hue and kde\n",
    "sns.histplot(df[df['text_length'] < filter], x='text_length', bins=50, kde=True)\n",
    "\n",
    "# Adding the red dashed line at x=512\n",
    "plt.axvline(x=512, color='red', linestyle='--', label='Max Length Encoding (512)')\n",
    "\n",
    "plt.title('Text Length Distribution')\n",
    "plt.xlabel('Number of Words')\n",
    "plt.ylabel('Frequency')\n",
    "\n",
    "# Updating the legend to include both hue categories and the red line label\n",
    "plt.legend(title='Legend')\n",
    "\n",
    "plt.savefig('text_length_distribution.jpg', dpi=1000, bbox_inches='tight')\n",
    "\n",
    "plt.show()"
   ]
  },
  {
   "cell_type": "markdown",
   "id": "cc507a56-53bf-426d-b303-ff68253ef23b",
   "metadata": {},
   "source": [
    "# Word cloud"
   ]
  },
  {
   "cell_type": "code",
   "execution_count": 40,
   "id": "e0d4d320-678a-495c-8141-2053a4c15f6b",
   "metadata": {
    "execution": {
     "iopub.execute_input": "2024-08-27T08:02:44.244698Z",
     "iopub.status.busy": "2024-08-27T08:02:44.244253Z",
     "iopub.status.idle": "2024-08-27T08:02:44.251769Z",
     "shell.execute_reply": "2024-08-27T08:02:44.250320Z",
     "shell.execute_reply.started": "2024-08-27T08:02:44.244661Z"
    },
    "tags": []
   },
   "outputs": [],
   "source": [
    "import pandas as pd\n",
    "from wordcloud import WordCloud\n",
    "import matplotlib.pyplot as plt\n",
    "import os\n",
    "\n",
    "# Ensure that the dataset has the correct columns\n",
    "# Columns: 'text_combined' (email content) and 'label' (0 for non-phishing, 1 for phishing)\n",
    "assert 'text_combined' in df.columns and 'label' in df.columns, \"Dataset must contain 'text_combined' and 'label' columns.\"\n"
   ]
  },
  {
   "cell_type": "code",
   "execution_count": 41,
   "id": "ff97f9b0-be84-4299-9f24-6927ec1738f1",
   "metadata": {
    "execution": {
     "iopub.execute_input": "2024-08-27T08:02:53.756833Z",
     "iopub.status.busy": "2024-08-27T08:02:53.756454Z",
     "iopub.status.idle": "2024-08-27T08:02:53.898267Z",
     "shell.execute_reply": "2024-08-27T08:02:53.897280Z",
     "shell.execute_reply.started": "2024-08-27T08:02:53.756813Z"
    },
    "tags": []
   },
   "outputs": [],
   "source": [
    "# Separate phishing and non-phishing emails\n",
    "phishing_emails = df[df['label'] == 1]['text_combined']\n",
    "non_phishing_emails = df[df['label'] == 0]['text_combined']\n",
    "\n",
    "# Combine all phishing and non-phishing emails into single text for each category\n",
    "phishing_text = ' '.join(phishing_emails)\n",
    "non_phishing_text = ' '.join(non_phishing_emails)\n",
    "\n"
   ]
  },
  {
   "cell_type": "code",
   "execution_count": 43,
   "id": "b32f81b7-b757-4155-b818-59d927b9fea4",
   "metadata": {
    "execution": {
     "iopub.execute_input": "2024-08-27T08:07:43.296512Z",
     "iopub.status.busy": "2024-08-27T08:07:43.296070Z",
     "iopub.status.idle": "2024-08-27T08:08:03.812545Z",
     "shell.execute_reply": "2024-08-27T08:08:03.811023Z",
     "shell.execute_reply.started": "2024-08-27T08:07:43.296457Z"
    },
    "tags": []
   },
   "outputs": [
    {
     "ename": "ValueError",
     "evalue": "Only supported for TrueType fonts",
     "output_type": "error",
     "traceback": [
      "\u001b[0;31m---------------------------------------------------------------------------\u001b[0m",
      "\u001b[0;31mValueError\u001b[0m                                Traceback (most recent call last)",
      "\u001b[0;32m/tmp/ipykernel_51/3872427395.py\u001b[0m in \u001b[0;36m<module>\u001b[0;34m\u001b[0m\n\u001b[1;32m      1\u001b[0m \u001b[0;31m# Generate word clouds without specifying a font path\u001b[0m\u001b[0;34m\u001b[0m\u001b[0;34m\u001b[0m\u001b[0;34m\u001b[0m\u001b[0m\n\u001b[0;32m----> 2\u001b[0;31m \u001b[0mwordcloud_phishing\u001b[0m \u001b[0;34m=\u001b[0m \u001b[0mWordCloud\u001b[0m\u001b[0;34m(\u001b[0m\u001b[0mwidth\u001b[0m\u001b[0;34m=\u001b[0m\u001b[0;36m800\u001b[0m\u001b[0;34m,\u001b[0m \u001b[0mheight\u001b[0m\u001b[0;34m=\u001b[0m\u001b[0;36m400\u001b[0m\u001b[0;34m,\u001b[0m \u001b[0mbackground_color\u001b[0m\u001b[0;34m=\u001b[0m\u001b[0;34m'white'\u001b[0m\u001b[0;34m)\u001b[0m\u001b[0;34m.\u001b[0m\u001b[0mgenerate\u001b[0m\u001b[0;34m(\u001b[0m\u001b[0mphishing_text\u001b[0m\u001b[0;34m)\u001b[0m\u001b[0;34m\u001b[0m\u001b[0;34m\u001b[0m\u001b[0m\n\u001b[0m\u001b[1;32m      3\u001b[0m \u001b[0mwordcloud_non_phishing\u001b[0m \u001b[0;34m=\u001b[0m \u001b[0mWordCloud\u001b[0m\u001b[0;34m(\u001b[0m\u001b[0mwidth\u001b[0m\u001b[0;34m=\u001b[0m\u001b[0;36m800\u001b[0m\u001b[0;34m,\u001b[0m \u001b[0mheight\u001b[0m\u001b[0;34m=\u001b[0m\u001b[0;36m400\u001b[0m\u001b[0;34m,\u001b[0m \u001b[0mbackground_color\u001b[0m\u001b[0;34m=\u001b[0m\u001b[0;34m'white'\u001b[0m\u001b[0;34m)\u001b[0m\u001b[0;34m.\u001b[0m\u001b[0mgenerate\u001b[0m\u001b[0;34m(\u001b[0m\u001b[0mnon_phishing_text\u001b[0m\u001b[0;34m)\u001b[0m\u001b[0;34m\u001b[0m\u001b[0;34m\u001b[0m\u001b[0m\n",
      "\u001b[0;32m/opt/conda/lib/python3.7/site-packages/wordcloud/wordcloud.py\u001b[0m in \u001b[0;36mgenerate\u001b[0;34m(self, text)\u001b[0m\n\u001b[1;32m    640\u001b[0m         \u001b[0mself\u001b[0m\u001b[0;34m\u001b[0m\u001b[0;34m\u001b[0m\u001b[0m\n\u001b[1;32m    641\u001b[0m         \"\"\"\n\u001b[0;32m--> 642\u001b[0;31m         \u001b[0;32mreturn\u001b[0m \u001b[0mself\u001b[0m\u001b[0;34m.\u001b[0m\u001b[0mgenerate_from_text\u001b[0m\u001b[0;34m(\u001b[0m\u001b[0mtext\u001b[0m\u001b[0;34m)\u001b[0m\u001b[0;34m\u001b[0m\u001b[0;34m\u001b[0m\u001b[0m\n\u001b[0m\u001b[1;32m    643\u001b[0m \u001b[0;34m\u001b[0m\u001b[0m\n\u001b[1;32m    644\u001b[0m     \u001b[0;32mdef\u001b[0m \u001b[0m_check_generated\u001b[0m\u001b[0;34m(\u001b[0m\u001b[0mself\u001b[0m\u001b[0;34m)\u001b[0m\u001b[0;34m:\u001b[0m\u001b[0;34m\u001b[0m\u001b[0;34m\u001b[0m\u001b[0m\n",
      "\u001b[0;32m/opt/conda/lib/python3.7/site-packages/wordcloud/wordcloud.py\u001b[0m in \u001b[0;36mgenerate_from_text\u001b[0;34m(self, text)\u001b[0m\n\u001b[1;32m    622\u001b[0m         \"\"\"\n\u001b[1;32m    623\u001b[0m         \u001b[0mwords\u001b[0m \u001b[0;34m=\u001b[0m \u001b[0mself\u001b[0m\u001b[0;34m.\u001b[0m\u001b[0mprocess_text\u001b[0m\u001b[0;34m(\u001b[0m\u001b[0mtext\u001b[0m\u001b[0;34m)\u001b[0m\u001b[0;34m\u001b[0m\u001b[0;34m\u001b[0m\u001b[0m\n\u001b[0;32m--> 624\u001b[0;31m         \u001b[0mself\u001b[0m\u001b[0;34m.\u001b[0m\u001b[0mgenerate_from_frequencies\u001b[0m\u001b[0;34m(\u001b[0m\u001b[0mwords\u001b[0m\u001b[0;34m)\u001b[0m\u001b[0;34m\u001b[0m\u001b[0;34m\u001b[0m\u001b[0m\n\u001b[0m\u001b[1;32m    625\u001b[0m         \u001b[0;32mreturn\u001b[0m \u001b[0mself\u001b[0m\u001b[0;34m\u001b[0m\u001b[0;34m\u001b[0m\u001b[0m\n\u001b[1;32m    626\u001b[0m \u001b[0;34m\u001b[0m\u001b[0m\n",
      "\u001b[0;32m/opt/conda/lib/python3.7/site-packages/wordcloud/wordcloud.py\u001b[0m in \u001b[0;36mgenerate_from_frequencies\u001b[0;34m(self, frequencies, max_font_size)\u001b[0m\n\u001b[1;32m    452\u001b[0m             \u001b[0;32melse\u001b[0m\u001b[0;34m:\u001b[0m\u001b[0;34m\u001b[0m\u001b[0;34m\u001b[0m\u001b[0m\n\u001b[1;32m    453\u001b[0m                 self.generate_from_frequencies(dict(frequencies[:2]),\n\u001b[0;32m--> 454\u001b[0;31m                                                max_font_size=self.height)\n\u001b[0m\u001b[1;32m    455\u001b[0m                 \u001b[0;31m# find font sizes\u001b[0m\u001b[0;34m\u001b[0m\u001b[0;34m\u001b[0m\u001b[0;34m\u001b[0m\u001b[0m\n\u001b[1;32m    456\u001b[0m                 \u001b[0msizes\u001b[0m \u001b[0;34m=\u001b[0m \u001b[0;34m[\u001b[0m\u001b[0mx\u001b[0m\u001b[0;34m[\u001b[0m\u001b[0;36m1\u001b[0m\u001b[0;34m]\u001b[0m \u001b[0;32mfor\u001b[0m \u001b[0mx\u001b[0m \u001b[0;32min\u001b[0m \u001b[0mself\u001b[0m\u001b[0;34m.\u001b[0m\u001b[0mlayout_\u001b[0m\u001b[0;34m]\u001b[0m\u001b[0;34m\u001b[0m\u001b[0;34m\u001b[0m\u001b[0m\n",
      "\u001b[0;32m/opt/conda/lib/python3.7/site-packages/wordcloud/wordcloud.py\u001b[0m in \u001b[0;36mgenerate_from_frequencies\u001b[0;34m(self, frequencies, max_font_size)\u001b[0m\n\u001b[1;32m    509\u001b[0m                     font, orientation=orientation)\n\u001b[1;32m    510\u001b[0m                 \u001b[0;31m# get size of resulting text\u001b[0m\u001b[0;34m\u001b[0m\u001b[0;34m\u001b[0m\u001b[0;34m\u001b[0m\u001b[0m\n\u001b[0;32m--> 511\u001b[0;31m                 \u001b[0mbox_size\u001b[0m \u001b[0;34m=\u001b[0m \u001b[0mdraw\u001b[0m\u001b[0;34m.\u001b[0m\u001b[0mtextbbox\u001b[0m\u001b[0;34m(\u001b[0m\u001b[0;34m(\u001b[0m\u001b[0;36m0\u001b[0m\u001b[0;34m,\u001b[0m \u001b[0;36m0\u001b[0m\u001b[0;34m)\u001b[0m\u001b[0;34m,\u001b[0m \u001b[0mword\u001b[0m\u001b[0;34m,\u001b[0m \u001b[0mfont\u001b[0m\u001b[0;34m=\u001b[0m\u001b[0mtransposed_font\u001b[0m\u001b[0;34m,\u001b[0m \u001b[0manchor\u001b[0m\u001b[0;34m=\u001b[0m\u001b[0;34m\"lt\"\u001b[0m\u001b[0;34m)\u001b[0m\u001b[0;34m\u001b[0m\u001b[0;34m\u001b[0m\u001b[0m\n\u001b[0m\u001b[1;32m    512\u001b[0m                 \u001b[0;31m# find possible places using integral image:\u001b[0m\u001b[0;34m\u001b[0m\u001b[0;34m\u001b[0m\u001b[0;34m\u001b[0m\u001b[0m\n\u001b[1;32m    513\u001b[0m                 result = occupancy.sample_position(box_size[3] + self.margin,\n",
      "\u001b[0;32m/opt/conda/lib/python3.7/site-packages/PIL/ImageDraw.py\u001b[0m in \u001b[0;36mtextbbox\u001b[0;34m(self, xy, text, font, anchor, spacing, align, direction, features, language, stroke_width, embedded_color)\u001b[0m\n\u001b[1;32m    669\u001b[0m             \u001b[0mfont\u001b[0m \u001b[0;34m=\u001b[0m \u001b[0mself\u001b[0m\u001b[0;34m.\u001b[0m\u001b[0mgetfont\u001b[0m\u001b[0;34m(\u001b[0m\u001b[0;34m)\u001b[0m\u001b[0;34m\u001b[0m\u001b[0;34m\u001b[0m\u001b[0m\n\u001b[1;32m    670\u001b[0m         \u001b[0;32mif\u001b[0m \u001b[0;32mnot\u001b[0m \u001b[0misinstance\u001b[0m\u001b[0;34m(\u001b[0m\u001b[0mfont\u001b[0m\u001b[0;34m,\u001b[0m \u001b[0mImageFont\u001b[0m\u001b[0;34m.\u001b[0m\u001b[0mFreeTypeFont\u001b[0m\u001b[0;34m)\u001b[0m\u001b[0;34m:\u001b[0m\u001b[0;34m\u001b[0m\u001b[0;34m\u001b[0m\u001b[0m\n\u001b[0;32m--> 671\u001b[0;31m             \u001b[0;32mraise\u001b[0m \u001b[0mValueError\u001b[0m\u001b[0;34m(\u001b[0m\u001b[0;34m\"Only supported for TrueType fonts\"\u001b[0m\u001b[0;34m)\u001b[0m\u001b[0;34m\u001b[0m\u001b[0;34m\u001b[0m\u001b[0m\n\u001b[0m\u001b[1;32m    672\u001b[0m         \u001b[0mmode\u001b[0m \u001b[0;34m=\u001b[0m \u001b[0;34m\"RGBA\"\u001b[0m \u001b[0;32mif\u001b[0m \u001b[0membedded_color\u001b[0m \u001b[0;32melse\u001b[0m \u001b[0mself\u001b[0m\u001b[0;34m.\u001b[0m\u001b[0mfontmode\u001b[0m\u001b[0;34m\u001b[0m\u001b[0;34m\u001b[0m\u001b[0m\n\u001b[1;32m    673\u001b[0m         bbox = font.getbbox(\n",
      "\u001b[0;31mValueError\u001b[0m: Only supported for TrueType fonts"
     ]
    }
   ],
   "source": [
    "# Generate word clouds without specifying a font path\n",
    "wordcloud_phishing = WordCloud(width=800, height=400, background_color='white').generate(phishing_text)\n",
    "wordcloud_non_phishing = WordCloud(width=800, height=400, background_color='white').generate(non_phishing_text)"
   ]
  },
  {
   "cell_type": "code",
   "execution_count": null,
   "id": "062f5f32-cf38-434e-ad46-b3fbcecc5e36",
   "metadata": {},
   "outputs": [],
   "source": [
    "# Plotting the word clouds\n",
    "plt.figure(figsize=(15, 8))\n",
    "\n",
    "# Phishing emails word cloud\n",
    "plt.subplot(1, 2, 1)\n",
    "plt.imshow(wordcloud_phishing, interpolation='bilinear')\n",
    "plt.title('Phishing Emails', fontsize=20)\n",
    "plt.axis('off')\n",
    "\n",
    "# Non-Phishing emails word cloud\n",
    "plt.subplot(1, 2, 2)\n",
    "plt.imshow(wordcloud_non_phishing, interpolation='bilinear')\n",
    "plt.title('Non-Phishing Emails', fontsize=20)\n",
    "plt.axis('off')\n",
    "\n",
    "plt.tight_layout()\n",
    "plt.show()\n"
   ]
  },
  {
   "cell_type": "code",
   "execution_count": null,
   "id": "1a7f715a-125a-4e0f-bf50-ad3e28ef5a1c",
   "metadata": {},
   "outputs": [],
   "source": []
  },
  {
   "cell_type": "markdown",
   "id": "5d25143f-c19b-4f4e-aff5-8d74fd6a8abf",
   "metadata": {},
   "source": [
    "## Linguistic Features"
   ]
  },
  {
   "cell_type": "code",
   "execution_count": 30,
   "id": "c277b672-f554-4e32-a435-c954e165adef",
   "metadata": {
    "execution": {
     "iopub.execute_input": "2024-08-26T07:38:50.978612Z",
     "iopub.status.busy": "2024-08-26T07:38:50.978181Z",
     "iopub.status.idle": "2024-08-26T07:39:00.831324Z",
     "shell.execute_reply": "2024-08-26T07:39:00.830348Z",
     "shell.execute_reply.started": "2024-08-26T07:38:50.978575Z"
    },
    "tags": []
   },
   "outputs": [],
   "source": [
    "df['uppercase_count'] = df['text_combined'].apply(lambda x: sum(1 for c in x if c.isupper()))\n",
    "df['exclamation_count'] = df['text_combined'].apply(lambda x: x.count('!'))\n",
    "df['question_count'] = df['text_combined'].apply(lambda x: x.count('?'))\n",
    "df['special_char_count'] = df['text_combined'].apply(lambda x: sum(1 for c in x if c in string.punctuation))"
   ]
  },
  {
   "cell_type": "code",
   "execution_count": 37,
   "id": "91b734bd-a5f7-4a4d-ba95-2e5e30ed1fbf",
   "metadata": {
    "execution": {
     "iopub.execute_input": "2024-08-26T07:42:44.264046Z",
     "iopub.status.busy": "2024-08-26T07:42:44.263623Z",
     "iopub.status.idle": "2024-08-26T07:42:44.271292Z",
     "shell.execute_reply": "2024-08-26T07:42:44.270267Z",
     "shell.execute_reply.started": "2024-08-26T07:42:44.264010Z"
    },
    "tags": []
   },
   "outputs": [
    {
     "data": {
      "text/plain": [
       "'!\"#$%&\\'()*+,-./:;<=>?@[\\\\]^_`{|}~'"
      ]
     },
     "execution_count": 37,
     "metadata": {},
     "output_type": "execute_result"
    }
   ],
   "source": [
    "string.punctuation"
   ]
  },
  {
   "cell_type": "markdown",
   "id": "3f9ab317-06df-4656-a9ab-e6ada9862fc6",
   "metadata": {},
   "source": [
    "## Text analysis"
   ]
  },
  {
   "cell_type": "markdown",
   "id": "941d3447-4097-4cbe-a488-7ff51bcfbae4",
   "metadata": {
    "tags": []
   },
   "source": [
    "We expect to see a lot of upper case letters an especially in the phishing E-mails."
   ]
  },
  {
   "cell_type": "code",
   "execution_count": 31,
   "id": "3cc20c70-2dd2-4fe8-83d7-bd50fa01e613",
   "metadata": {
    "execution": {
     "iopub.execute_input": "2024-08-26T07:39:28.688774Z",
     "iopub.status.busy": "2024-08-26T07:39:28.688324Z",
     "iopub.status.idle": "2024-08-26T07:39:28.695179Z",
     "shell.execute_reply": "2024-08-26T07:39:28.693903Z",
     "shell.execute_reply.started": "2024-08-26T07:39:28.688736Z"
    },
    "tags": []
   },
   "outputs": [],
   "source": [
    "def uppercase_proportion(text):\n",
    "    total_chars = len(text)\n",
    "    uppercase_chars = sum(1 for c in text if c.isupper())\n",
    "    return uppercase_chars / total_chars if total_chars > 0 else 0"
   ]
  },
  {
   "cell_type": "code",
   "execution_count": 32,
   "id": "b19f2c01-d05c-4a74-8d60-16d3b5b911de",
   "metadata": {
    "execution": {
     "iopub.execute_input": "2024-08-26T07:39:29.302259Z",
     "iopub.status.busy": "2024-08-26T07:39:29.301901Z",
     "iopub.status.idle": "2024-08-26T07:39:33.352044Z",
     "shell.execute_reply": "2024-08-26T07:39:33.351062Z",
     "shell.execute_reply.started": "2024-08-26T07:39:29.302225Z"
    },
    "tags": []
   },
   "outputs": [],
   "source": [
    "df['uppercase_proportion'] = df['text_combined'].apply(uppercase_proportion)"
   ]
  },
  {
   "cell_type": "code",
   "execution_count": 33,
   "id": "0439c49f-41f4-4366-a301-a953639ec7db",
   "metadata": {
    "execution": {
     "iopub.execute_input": "2024-08-26T07:39:33.353288Z",
     "iopub.status.busy": "2024-08-26T07:39:33.353128Z",
     "iopub.status.idle": "2024-08-26T07:39:33.368487Z",
     "shell.execute_reply": "2024-08-26T07:39:33.367729Z",
     "shell.execute_reply.started": "2024-08-26T07:39:33.353272Z"
    },
    "tags": []
   },
   "outputs": [
    {
     "data": {
      "text/html": [
       "<div>\n",
       "<style scoped>\n",
       "    .dataframe tbody tr th:only-of-type {\n",
       "        vertical-align: middle;\n",
       "    }\n",
       "\n",
       "    .dataframe tbody tr th {\n",
       "        vertical-align: top;\n",
       "    }\n",
       "\n",
       "    .dataframe thead th {\n",
       "        text-align: right;\n",
       "    }\n",
       "</style>\n",
       "<table border=\"1\" class=\"dataframe\">\n",
       "  <thead>\n",
       "    <tr style=\"text-align: right;\">\n",
       "      <th></th>\n",
       "      <th>text_combined</th>\n",
       "      <th>label</th>\n",
       "      <th>char_count</th>\n",
       "      <th>text_length</th>\n",
       "      <th>avg_word_length</th>\n",
       "      <th>uppercase_count</th>\n",
       "      <th>exclamation_count</th>\n",
       "      <th>question_count</th>\n",
       "      <th>special_char_count</th>\n",
       "      <th>uppercase_proportion</th>\n",
       "    </tr>\n",
       "  </thead>\n",
       "  <tbody>\n",
       "    <tr>\n",
       "      <th>57883</th>\n",
       "      <td>john dlugosz dhcgnd702sneakemailcom tsa thomas...</td>\n",
       "      <td>0</td>\n",
       "      <td>1126</td>\n",
       "      <td>178</td>\n",
       "      <td>5.331461</td>\n",
       "      <td>4</td>\n",
       "      <td>0</td>\n",
       "      <td>0</td>\n",
       "      <td>0</td>\n",
       "      <td>0.003552</td>\n",
       "    </tr>\n",
       "    <tr>\n",
       "      <th>58229</th>\n",
       "      <td>xavier noria fxnhashrefcom thu aug 7 2008 319 ...</td>\n",
       "      <td>0</td>\n",
       "      <td>455</td>\n",
       "      <td>69</td>\n",
       "      <td>5.608696</td>\n",
       "      <td>1</td>\n",
       "      <td>0</td>\n",
       "      <td>0</td>\n",
       "      <td>0</td>\n",
       "      <td>0.002198</td>\n",
       "    </tr>\n",
       "    <tr>\n",
       "      <th>81618</th>\n",
       "      <td>utf8bummrevdjkukgwqk yymkpcmircgryad95ofmcxjz6...</td>\n",
       "      <td>1</td>\n",
       "      <td>800</td>\n",
       "      <td>87</td>\n",
       "      <td>8.206897</td>\n",
       "      <td>6</td>\n",
       "      <td>0</td>\n",
       "      <td>0</td>\n",
       "      <td>11</td>\n",
       "      <td>0.007500</td>\n",
       "    </tr>\n",
       "    <tr>\n",
       "      <th>81663</th>\n",
       "      <td>apple crendhyjembudorg 𝖯𝗈𝗅𝗂𝖼𝗒 𝖵𝗂𝗈𝗅𝖺𝗍𝗂𝗈𝗇 𝖨𝗆𝗆𝖾𝖽𝗂...</td>\n",
       "      <td>1</td>\n",
       "      <td>1665</td>\n",
       "      <td>265</td>\n",
       "      <td>5.286792</td>\n",
       "      <td>74</td>\n",
       "      <td>0</td>\n",
       "      <td>0</td>\n",
       "      <td>0</td>\n",
       "      <td>0.044444</td>\n",
       "    </tr>\n",
       "  </tbody>\n",
       "</table>\n",
       "</div>"
      ],
      "text/plain": [
       "                                           text_combined  label  char_count  \\\n",
       "57883  john dlugosz dhcgnd702sneakemailcom tsa thomas...      0        1126   \n",
       "58229  xavier noria fxnhashrefcom thu aug 7 2008 319 ...      0         455   \n",
       "81618  utf8bummrevdjkukgwqk yymkpcmircgryad95ofmcxjz6...      1         800   \n",
       "81663  apple crendhyjembudorg 𝖯𝗈𝗅𝗂𝖼𝗒 𝖵𝗂𝗈𝗅𝖺𝗍𝗂𝗈𝗇 𝖨𝗆𝗆𝖾𝖽𝗂...      1        1665   \n",
       "\n",
       "       text_length  avg_word_length  uppercase_count  exclamation_count  \\\n",
       "57883          178         5.331461                4                  0   \n",
       "58229           69         5.608696                1                  0   \n",
       "81618           87         8.206897                6                  0   \n",
       "81663          265         5.286792               74                  0   \n",
       "\n",
       "       question_count  special_char_count  uppercase_proportion  \n",
       "57883               0                   0              0.003552  \n",
       "58229               0                   0              0.002198  \n",
       "81618               0                  11              0.007500  \n",
       "81663               0                   0              0.044444  "
      ]
     },
     "execution_count": 33,
     "metadata": {},
     "output_type": "execute_result"
    }
   ],
   "source": [
    "df[df['uppercase_proportion'] > 0]"
   ]
  },
  {
   "cell_type": "markdown",
   "id": "66fc34b7-ccdc-4ab6-9754-15651254fd9d",
   "metadata": {},
   "source": [
    "### !"
   ]
  },
  {
   "cell_type": "code",
   "execution_count": 50,
   "id": "b0a23387-9b17-4150-bf29-af273c50e659",
   "metadata": {
    "execution": {
     "iopub.execute_input": "2024-08-26T07:49:31.240489Z",
     "iopub.status.busy": "2024-08-26T07:49:31.240054Z",
     "iopub.status.idle": "2024-08-26T07:49:31.258403Z",
     "shell.execute_reply": "2024-08-26T07:49:31.257314Z",
     "shell.execute_reply.started": "2024-08-26T07:49:31.240435Z"
    },
    "tags": []
   },
   "outputs": [
    {
     "data": {
      "text/html": [
       "<div>\n",
       "<style scoped>\n",
       "    .dataframe tbody tr th:only-of-type {\n",
       "        vertical-align: middle;\n",
       "    }\n",
       "\n",
       "    .dataframe tbody tr th {\n",
       "        vertical-align: top;\n",
       "    }\n",
       "\n",
       "    .dataframe thead th {\n",
       "        text-align: right;\n",
       "    }\n",
       "</style>\n",
       "<table border=\"1\" class=\"dataframe\">\n",
       "  <thead>\n",
       "    <tr style=\"text-align: right;\">\n",
       "      <th></th>\n",
       "      <th>text_combined</th>\n",
       "      <th>label</th>\n",
       "      <th>char_count</th>\n",
       "      <th>text_length</th>\n",
       "      <th>avg_word_length</th>\n",
       "      <th>uppercase_count</th>\n",
       "      <th>exclamation_count</th>\n",
       "      <th>question_count</th>\n",
       "      <th>special_char_count</th>\n",
       "      <th>uppercase_proportion</th>\n",
       "    </tr>\n",
       "  </thead>\n",
       "  <tbody>\n",
       "    <tr>\n",
       "      <th>57883</th>\n",
       "      <td>john dlugosz dhcgnd702sneakemailcom tsa thomas...</td>\n",
       "      <td>0</td>\n",
       "      <td>1126</td>\n",
       "      <td>178</td>\n",
       "      <td>5.331461</td>\n",
       "      <td>4</td>\n",
       "      <td>0</td>\n",
       "      <td>0</td>\n",
       "      <td>0</td>\n",
       "      <td>0.003552</td>\n",
       "    </tr>\n",
       "    <tr>\n",
       "      <th>58229</th>\n",
       "      <td>xavier noria fxnhashrefcom thu aug 7 2008 319 ...</td>\n",
       "      <td>0</td>\n",
       "      <td>455</td>\n",
       "      <td>69</td>\n",
       "      <td>5.608696</td>\n",
       "      <td>1</td>\n",
       "      <td>0</td>\n",
       "      <td>0</td>\n",
       "      <td>0</td>\n",
       "      <td>0.002198</td>\n",
       "    </tr>\n",
       "    <tr>\n",
       "      <th>81618</th>\n",
       "      <td>utf8bummrevdjkukgwqk yymkpcmircgryad95ofmcxjz6...</td>\n",
       "      <td>1</td>\n",
       "      <td>800</td>\n",
       "      <td>87</td>\n",
       "      <td>8.206897</td>\n",
       "      <td>6</td>\n",
       "      <td>0</td>\n",
       "      <td>0</td>\n",
       "      <td>11</td>\n",
       "      <td>0.007500</td>\n",
       "    </tr>\n",
       "    <tr>\n",
       "      <th>81663</th>\n",
       "      <td>apple crendhyjembudorg 𝖯𝗈𝗅𝗂𝖼𝗒 𝖵𝗂𝗈𝗅𝖺𝗍𝗂𝗈𝗇 𝖨𝗆𝗆𝖾𝖽𝗂...</td>\n",
       "      <td>1</td>\n",
       "      <td>1665</td>\n",
       "      <td>265</td>\n",
       "      <td>5.286792</td>\n",
       "      <td>74</td>\n",
       "      <td>0</td>\n",
       "      <td>0</td>\n",
       "      <td>0</td>\n",
       "      <td>0.044444</td>\n",
       "    </tr>\n",
       "  </tbody>\n",
       "</table>\n",
       "</div>"
      ],
      "text/plain": [
       "                                           text_combined  label  char_count  \\\n",
       "57883  john dlugosz dhcgnd702sneakemailcom tsa thomas...      0        1126   \n",
       "58229  xavier noria fxnhashrefcom thu aug 7 2008 319 ...      0         455   \n",
       "81618  utf8bummrevdjkukgwqk yymkpcmircgryad95ofmcxjz6...      1         800   \n",
       "81663  apple crendhyjembudorg 𝖯𝗈𝗅𝗂𝖼𝗒 𝖵𝗂𝗈𝗅𝖺𝗍𝗂𝗈𝗇 𝖨𝗆𝗆𝖾𝖽𝗂...      1        1665   \n",
       "\n",
       "       text_length  avg_word_length  uppercase_count  exclamation_count  \\\n",
       "57883          178         5.331461                4                  0   \n",
       "58229           69         5.608696                1                  0   \n",
       "81618           87         8.206897                6                  0   \n",
       "81663          265         5.286792               74                  0   \n",
       "\n",
       "       question_count  special_char_count  uppercase_proportion  \n",
       "57883               0                   0              0.003552  \n",
       "58229               0                   0              0.002198  \n",
       "81618               0                  11              0.007500  \n",
       "81663               0                   0              0.044444  "
      ]
     },
     "execution_count": 50,
     "metadata": {},
     "output_type": "execute_result"
    }
   ],
   "source": [
    "df[df['uppercase_count'] > 0]"
   ]
  },
  {
   "cell_type": "markdown",
   "id": "061395a0-ffa2-417c-b680-2e97ab078cb9",
   "metadata": {},
   "source": [
    "### ?"
   ]
  },
  {
   "cell_type": "code",
   "execution_count": 51,
   "id": "873fcbcd-6aff-475c-b5a2-22b22f7fb154",
   "metadata": {
    "execution": {
     "iopub.execute_input": "2024-08-26T07:49:32.805252Z",
     "iopub.status.busy": "2024-08-26T07:49:32.804841Z",
     "iopub.status.idle": "2024-08-26T07:49:32.817588Z",
     "shell.execute_reply": "2024-08-26T07:49:32.816712Z",
     "shell.execute_reply.started": "2024-08-26T07:49:32.805215Z"
    },
    "tags": []
   },
   "outputs": [
    {
     "data": {
      "text/html": [
       "<div>\n",
       "<style scoped>\n",
       "    .dataframe tbody tr th:only-of-type {\n",
       "        vertical-align: middle;\n",
       "    }\n",
       "\n",
       "    .dataframe tbody tr th {\n",
       "        vertical-align: top;\n",
       "    }\n",
       "\n",
       "    .dataframe thead th {\n",
       "        text-align: right;\n",
       "    }\n",
       "</style>\n",
       "<table border=\"1\" class=\"dataframe\">\n",
       "  <thead>\n",
       "    <tr style=\"text-align: right;\">\n",
       "      <th></th>\n",
       "      <th>text_combined</th>\n",
       "      <th>label</th>\n",
       "      <th>char_count</th>\n",
       "      <th>text_length</th>\n",
       "      <th>avg_word_length</th>\n",
       "      <th>uppercase_count</th>\n",
       "      <th>exclamation_count</th>\n",
       "      <th>question_count</th>\n",
       "      <th>special_char_count</th>\n",
       "      <th>uppercase_proportion</th>\n",
       "    </tr>\n",
       "  </thead>\n",
       "  <tbody>\n",
       "  </tbody>\n",
       "</table>\n",
       "</div>"
      ],
      "text/plain": [
       "Empty DataFrame\n",
       "Columns: [text_combined, label, char_count, text_length, avg_word_length, uppercase_count, exclamation_count, question_count, special_char_count, uppercase_proportion]\n",
       "Index: []"
      ]
     },
     "execution_count": 51,
     "metadata": {},
     "output_type": "execute_result"
    }
   ],
   "source": [
    "df[df['exclamation_count'] > 0]"
   ]
  },
  {
   "cell_type": "markdown",
   "id": "148b280f-73b6-4c0b-a43e-dd476495bc8a",
   "metadata": {},
   "source": [
    "### special"
   ]
  },
  {
   "cell_type": "code",
   "execution_count": 52,
   "id": "55007150-d3ce-43b7-a4da-a51b1914961d",
   "metadata": {
    "execution": {
     "iopub.execute_input": "2024-08-26T07:49:35.025033Z",
     "iopub.status.busy": "2024-08-26T07:49:35.024593Z",
     "iopub.status.idle": "2024-08-26T07:49:35.043243Z",
     "shell.execute_reply": "2024-08-26T07:49:35.042339Z",
     "shell.execute_reply.started": "2024-08-26T07:49:35.024995Z"
    },
    "tags": []
   },
   "outputs": [
    {
     "data": {
      "text/html": [
       "<div>\n",
       "<style scoped>\n",
       "    .dataframe tbody tr th:only-of-type {\n",
       "        vertical-align: middle;\n",
       "    }\n",
       "\n",
       "    .dataframe tbody tr th {\n",
       "        vertical-align: top;\n",
       "    }\n",
       "\n",
       "    .dataframe thead th {\n",
       "        text-align: right;\n",
       "    }\n",
       "</style>\n",
       "<table border=\"1\" class=\"dataframe\">\n",
       "  <thead>\n",
       "    <tr style=\"text-align: right;\">\n",
       "      <th></th>\n",
       "      <th>text_combined</th>\n",
       "      <th>label</th>\n",
       "      <th>char_count</th>\n",
       "      <th>text_length</th>\n",
       "      <th>avg_word_length</th>\n",
       "      <th>uppercase_count</th>\n",
       "      <th>exclamation_count</th>\n",
       "      <th>question_count</th>\n",
       "      <th>special_char_count</th>\n",
       "      <th>uppercase_proportion</th>\n",
       "    </tr>\n",
       "  </thead>\n",
       "  <tbody>\n",
       "    <tr>\n",
       "      <th>44</th>\n",
       "      <td>gisb contracts intrastate interstate gas mr fa...</td>\n",
       "      <td>0</td>\n",
       "      <td>1647</td>\n",
       "      <td>261</td>\n",
       "      <td>5.314176</td>\n",
       "      <td>0</td>\n",
       "      <td>0</td>\n",
       "      <td>0</td>\n",
       "      <td>1</td>\n",
       "      <td>0.0</td>\n",
       "    </tr>\n",
       "    <tr>\n",
       "      <th>336</th>\n",
       "      <td>enron actuals july 14 thru 16 2000 revised ami...</td>\n",
       "      <td>0</td>\n",
       "      <td>830</td>\n",
       "      <td>172</td>\n",
       "      <td>3.831395</td>\n",
       "      <td>0</td>\n",
       "      <td>0</td>\n",
       "      <td>0</td>\n",
       "      <td>2</td>\n",
       "      <td>0.0</td>\n",
       "    </tr>\n",
       "    <tr>\n",
       "      <th>429</th>\n",
       "      <td>revision 1 enron actuals may 11 2000 correct n...</td>\n",
       "      <td>0</td>\n",
       "      <td>460</td>\n",
       "      <td>89</td>\n",
       "      <td>4.179775</td>\n",
       "      <td>0</td>\n",
       "      <td>0</td>\n",
       "      <td>0</td>\n",
       "      <td>2</td>\n",
       "      <td>0.0</td>\n",
       "    </tr>\n",
       "    <tr>\n",
       "      <th>433</th>\n",
       "      <td>revision 1 enron actuals may 18 2000 teco tap ...</td>\n",
       "      <td>0</td>\n",
       "      <td>502</td>\n",
       "      <td>103</td>\n",
       "      <td>3.883495</td>\n",
       "      <td>0</td>\n",
       "      <td>0</td>\n",
       "      <td>0</td>\n",
       "      <td>2</td>\n",
       "      <td>0.0</td>\n",
       "    </tr>\n",
       "    <tr>\n",
       "      <th>577</th>\n",
       "      <td>unify gas month end close november 2001 please...</td>\n",
       "      <td>0</td>\n",
       "      <td>1536</td>\n",
       "      <td>245</td>\n",
       "      <td>5.273469</td>\n",
       "      <td>0</td>\n",
       "      <td>0</td>\n",
       "      <td>0</td>\n",
       "      <td>2</td>\n",
       "      <td>0.0</td>\n",
       "    </tr>\n",
       "    <tr>\n",
       "      <th>...</th>\n",
       "      <td>...</td>\n",
       "      <td>...</td>\n",
       "      <td>...</td>\n",
       "      <td>...</td>\n",
       "      <td>...</td>\n",
       "      <td>...</td>\n",
       "      <td>...</td>\n",
       "      <td>...</td>\n",
       "      <td>...</td>\n",
       "      <td>...</td>\n",
       "    </tr>\n",
       "    <tr>\n",
       "      <th>82478</th>\n",
       "      <td>netlflx cool390rnatlikadeliycom dear customer ...</td>\n",
       "      <td>1</td>\n",
       "      <td>366</td>\n",
       "      <td>37</td>\n",
       "      <td>8.918919</td>\n",
       "      <td>0</td>\n",
       "      <td>0</td>\n",
       "      <td>0</td>\n",
       "      <td>2</td>\n",
       "      <td>0.0</td>\n",
       "    </tr>\n",
       "    <tr>\n",
       "      <th>82479</th>\n",
       "      <td>wetransfer no_replywetransfercom test transfer...</td>\n",
       "      <td>1</td>\n",
       "      <td>820</td>\n",
       "      <td>97</td>\n",
       "      <td>7.463918</td>\n",
       "      <td>0</td>\n",
       "      <td>0</td>\n",
       "      <td>0</td>\n",
       "      <td>1</td>\n",
       "      <td>0.0</td>\n",
       "    </tr>\n",
       "    <tr>\n",
       "      <th>82481</th>\n",
       "      <td>info advantageapartmentscom infoadvantageapart...</td>\n",
       "      <td>1</td>\n",
       "      <td>1735</td>\n",
       "      <td>238</td>\n",
       "      <td>6.294118</td>\n",
       "      <td>0</td>\n",
       "      <td>0</td>\n",
       "      <td>0</td>\n",
       "      <td>34</td>\n",
       "      <td>0.0</td>\n",
       "    </tr>\n",
       "    <tr>\n",
       "      <th>82483</th>\n",
       "      <td>help center infohelpcentercoza_infohelpcenterc...</td>\n",
       "      <td>1</td>\n",
       "      <td>948</td>\n",
       "      <td>108</td>\n",
       "      <td>7.787037</td>\n",
       "      <td>0</td>\n",
       "      <td>0</td>\n",
       "      <td>0</td>\n",
       "      <td>2</td>\n",
       "      <td>0.0</td>\n",
       "    </tr>\n",
       "    <tr>\n",
       "      <th>82485</th>\n",
       "      <td>fastway infofastwaycoza_infofastwaycoza_infofa...</td>\n",
       "      <td>1</td>\n",
       "      <td>819</td>\n",
       "      <td>112</td>\n",
       "      <td>6.321429</td>\n",
       "      <td>0</td>\n",
       "      <td>0</td>\n",
       "      <td>0</td>\n",
       "      <td>2</td>\n",
       "      <td>0.0</td>\n",
       "    </tr>\n",
       "  </tbody>\n",
       "</table>\n",
       "<p>20143 rows × 10 columns</p>\n",
       "</div>"
      ],
      "text/plain": [
       "                                           text_combined  label  char_count  \\\n",
       "44     gisb contracts intrastate interstate gas mr fa...      0        1647   \n",
       "336    enron actuals july 14 thru 16 2000 revised ami...      0         830   \n",
       "429    revision 1 enron actuals may 11 2000 correct n...      0         460   \n",
       "433    revision 1 enron actuals may 18 2000 teco tap ...      0         502   \n",
       "577    unify gas month end close november 2001 please...      0        1536   \n",
       "...                                                  ...    ...         ...   \n",
       "82478  netlflx cool390rnatlikadeliycom dear customer ...      1         366   \n",
       "82479  wetransfer no_replywetransfercom test transfer...      1         820   \n",
       "82481  info advantageapartmentscom infoadvantageapart...      1        1735   \n",
       "82483  help center infohelpcentercoza_infohelpcenterc...      1         948   \n",
       "82485  fastway infofastwaycoza_infofastwaycoza_infofa...      1         819   \n",
       "\n",
       "       text_length  avg_word_length  uppercase_count  exclamation_count  \\\n",
       "44             261         5.314176                0                  0   \n",
       "336            172         3.831395                0                  0   \n",
       "429             89         4.179775                0                  0   \n",
       "433            103         3.883495                0                  0   \n",
       "577            245         5.273469                0                  0   \n",
       "...            ...              ...              ...                ...   \n",
       "82478           37         8.918919                0                  0   \n",
       "82479           97         7.463918                0                  0   \n",
       "82481          238         6.294118                0                  0   \n",
       "82483          108         7.787037                0                  0   \n",
       "82485          112         6.321429                0                  0   \n",
       "\n",
       "       question_count  special_char_count  uppercase_proportion  \n",
       "44                  0                   1                   0.0  \n",
       "336                 0                   2                   0.0  \n",
       "429                 0                   2                   0.0  \n",
       "433                 0                   2                   0.0  \n",
       "577                 0                   2                   0.0  \n",
       "...               ...                 ...                   ...  \n",
       "82478               0                   2                   0.0  \n",
       "82479               0                   1                   0.0  \n",
       "82481               0                  34                   0.0  \n",
       "82483               0                   2                   0.0  \n",
       "82485               0                   2                   0.0  \n",
       "\n",
       "[20143 rows x 10 columns]"
      ]
     },
     "execution_count": 52,
     "metadata": {},
     "output_type": "execute_result"
    }
   ],
   "source": [
    "df[df['special_char_count'] > 0]"
   ]
  },
  {
   "cell_type": "markdown",
   "id": "1dfc2b12-2acb-47fb-9f39-82163d806a0c",
   "metadata": {},
   "source": [
    "## Calculate word frequency for phishing and non-phishing emails without converting to lowercase"
   ]
  },
  {
   "cell_type": "code",
   "execution_count": null,
   "id": "6a81b0d4-803d-4909-8d71-5bcf4c8b4084",
   "metadata": {
    "tags": []
   },
   "outputs": [],
   "source": [
    "# phishing_tokens = df[df['label'] == 1]['tokens'].sum()\n",
    "# non_phishing_tokens = df[df['label'] == 0]['tokens'].sum()\n",
    "\n",
    "# phishing_word_freq = Counter(phishing_tokens)\n",
    "# non_phishing_word_freq = Counter(non_phishing_tokens)"
   ]
  },
  {
   "cell_type": "code",
   "execution_count": null,
   "id": "893ee0a1-e605-485c-83f8-0af5ef0ad029",
   "metadata": {
    "tags": []
   },
   "outputs": [],
   "source": [
    "# # Display the most common words\n",
    "# phishing_common_words = pd.DataFrame(phishing_word_freq.most_common(20), columns=['word', 'count'])\n",
    "# non_phishing_common_words = pd.DataFrame(non_phishing_word_freq.most_common(20), columns=['word', 'count'])\n",
    "\n",
    "# print(\"Most common words in phishing emails:\")\n",
    "# print(phishing_common_words)\n",
    "\n",
    "# print(\"Most common words in non-phishing emails:\")\n",
    "# print(non_phishing_common_words)"
   ]
  },
  {
   "cell_type": "code",
   "execution_count": null,
   "id": "5fada1d6-47d9-46e1-988b-15871666adae",
   "metadata": {},
   "outputs": [],
   "source": [
    "# phishing_common_words.to_csv('phishing_common_words.csv', index=False)\n",
    "# non_phishing_common_words.to_csv('non_phishing_common_words.csv', index=False)"
   ]
  },
  {
   "cell_type": "markdown",
   "id": "db90b0a3-8c47-4da6-9391-b427fd71e5de",
   "metadata": {
    "tags": []
   },
   "source": [
    "## Sentiment Analysisfrom"
   ]
  },
  {
   "cell_type": "code",
   "execution_count": 53,
   "id": "c2816d5f-1962-41f5-925a-8d25474951e4",
   "metadata": {
    "execution": {
     "iopub.execute_input": "2024-08-26T08:09:50.149533Z",
     "iopub.status.busy": "2024-08-26T08:09:50.149109Z",
     "iopub.status.idle": "2024-08-26T08:12:41.781653Z",
     "shell.execute_reply": "2024-08-26T08:12:41.780675Z",
     "shell.execute_reply.started": "2024-08-26T08:09:50.149496Z"
    },
    "tags": []
   },
   "outputs": [],
   "source": [
    "sid = SentimentIntensityAnalyzer()\n",
    "df['sentiment'] = df['text_combined'].apply(lambda x: sid.polarity_scores(x)['compound'])"
   ]
  },
  {
   "cell_type": "markdown",
   "id": "88a24baa-04e2-41a1-884c-2078ffde56e4",
   "metadata": {},
   "source": [
    "## Readability Scores"
   ]
  },
  {
   "cell_type": "code",
   "execution_count": 34,
   "id": "4be1379b-8ddd-47f9-b7fa-3cffa1c91704",
   "metadata": {
    "execution": {
     "iopub.execute_input": "2024-07-30T12:09:53.972342Z",
     "iopub.status.busy": "2024-07-30T12:09:53.971905Z",
     "iopub.status.idle": "2024-07-30T12:10:27.928077Z",
     "shell.execute_reply": "2024-07-30T12:10:27.927156Z",
     "shell.execute_reply.started": "2024-07-30T12:09:53.972306Z"
    },
    "tags": []
   },
   "outputs": [],
   "source": [
    "df['flesch_reading_ease'] = df['text_combined'].apply(flesch_reading_ease)\n",
    "df['flesch_kincaid_grade'] = df['text_combined'].apply(flesch_kincaid_grade)"
   ]
  },
  {
   "cell_type": "markdown",
   "id": "768facc3-c7fd-4944-8553-2caf63c15b8f",
   "metadata": {},
   "source": [
    "### Tokenize"
   ]
  },
  {
   "cell_type": "code",
   "execution_count": null,
   "id": "7670c7a9-ee13-450b-bc5f-f6207885e09e",
   "metadata": {
    "tags": []
   },
   "outputs": [],
   "source": [
    "# Tokenize the text and remove stopwords\n",
    "df['tokens'] = df['text_combined'].apply(lambda x: [word for word in nltk.word_tokenize(x.lower()) if word.isalnum() and word not in stop_words])"
   ]
  },
  {
   "cell_type": "code",
   "execution_count": null,
   "id": "4a249544-6454-4d02-9b93-ca9dbad9c4e4",
   "metadata": {
    "tags": []
   },
   "outputs": [],
   "source": [
    "df['token_length'] = df['tokens'].apply(lambda x: len(x))"
   ]
  },
  {
   "cell_type": "code",
   "execution_count": null,
   "id": "1c229b09-3b8a-48a6-a77f-2e638ceaaa31",
   "metadata": {
    "tags": []
   },
   "outputs": [],
   "source": [
    "df[df['token_length'] == df['text_length']].shape"
   ]
  },
  {
   "cell_type": "markdown",
   "id": "b436b9f3-9181-477e-a875-cacb49d3338e",
   "metadata": {},
   "source": [
    "## Example of extracting TF-IDF features"
   ]
  },
  {
   "cell_type": "code",
   "execution_count": 41,
   "id": "dcaff3c0-ef2a-4b6b-a36a-a8a1d15257d5",
   "metadata": {
    "execution": {
     "iopub.execute_input": "2024-07-30T12:11:59.027700Z",
     "iopub.status.busy": "2024-07-30T12:11:59.027246Z",
     "iopub.status.idle": "2024-07-30T12:12:09.114917Z",
     "shell.execute_reply": "2024-07-30T12:12:09.113921Z",
     "shell.execute_reply.started": "2024-07-30T12:11:59.027661Z"
    },
    "tags": []
   },
   "outputs": [],
   "source": [
    "tfidf = TfidfVectorizer(max_features=100)\n",
    "tfidf_matrix = tfidf.fit_transform(df['text_combined'])\n",
    "tfidf_df = pd.DataFrame(tfidf_matrix.toarray(), columns=tfidf.get_feature_names_out())\n",
    "df = pd.concat([df, tfidf_df], axis=1)"
   ]
  },
  {
   "cell_type": "code",
   "execution_count": 45,
   "id": "31b94c06-f380-49e7-9704-544c90ebf21c",
   "metadata": {
    "execution": {
     "iopub.execute_input": "2024-07-30T12:13:02.012079Z",
     "iopub.status.busy": "2024-07-30T12:13:02.011585Z",
     "iopub.status.idle": "2024-07-30T12:13:02.058955Z",
     "shell.execute_reply": "2024-07-30T12:13:02.058035Z",
     "shell.execute_reply.started": "2024-07-30T12:13:02.012037Z"
    },
    "tags": []
   },
   "outputs": [
    {
     "data": {
      "text/html": [
       "<div>\n",
       "<style scoped>\n",
       "    .dataframe tbody tr th:only-of-type {\n",
       "        vertical-align: middle;\n",
       "    }\n",
       "\n",
       "    .dataframe tbody tr th {\n",
       "        vertical-align: top;\n",
       "    }\n",
       "\n",
       "    .dataframe thead th {\n",
       "        text-align: right;\n",
       "    }\n",
       "</style>\n",
       "<table border=\"1\" class=\"dataframe\">\n",
       "  <thead>\n",
       "    <tr style=\"text-align: right;\">\n",
       "      <th></th>\n",
       "      <th>text_combined</th>\n",
       "      <th>label</th>\n",
       "      <th>char_count</th>\n",
       "      <th>text_length</th>\n",
       "      <th>avg_word_length</th>\n",
       "      <th>uppercase_count</th>\n",
       "      <th>exclamation_count</th>\n",
       "      <th>question_count</th>\n",
       "      <th>special_char_count</th>\n",
       "      <th>uppercase_proportion</th>\n",
       "      <th>...</th>\n",
       "      <th>using</th>\n",
       "      <th>virus</th>\n",
       "      <th>want</th>\n",
       "      <th>way</th>\n",
       "      <th>web</th>\n",
       "      <th>wed</th>\n",
       "      <th>well</th>\n",
       "      <th>work</th>\n",
       "      <th>would</th>\n",
       "      <th>wrote</th>\n",
       "    </tr>\n",
       "  </thead>\n",
       "  <tbody>\n",
       "    <tr>\n",
       "      <th>0</th>\n",
       "      <td>hpl nom may 25 2001 see attached file hplno 52...</td>\n",
       "      <td>0</td>\n",
       "      <td>65</td>\n",
       "      <td>14</td>\n",
       "      <td>3.714286</td>\n",
       "      <td>0</td>\n",
       "      <td>0</td>\n",
       "      <td>0</td>\n",
       "      <td>0</td>\n",
       "      <td>0.0</td>\n",
       "      <td>...</td>\n",
       "      <td>0.0</td>\n",
       "      <td>0.0</td>\n",
       "      <td>0.0</td>\n",
       "      <td>0.000000</td>\n",
       "      <td>0.0</td>\n",
       "      <td>0.000000</td>\n",
       "      <td>0.0</td>\n",
       "      <td>0.0</td>\n",
       "      <td>0.0</td>\n",
       "      <td>0.0</td>\n",
       "    </tr>\n",
       "    <tr>\n",
       "      <th>1</th>\n",
       "      <td>nom actual vols 24 th forwarded sabrae zajac h...</td>\n",
       "      <td>0</td>\n",
       "      <td>1071</td>\n",
       "      <td>208</td>\n",
       "      <td>4.153846</td>\n",
       "      <td>0</td>\n",
       "      <td>0</td>\n",
       "      <td>0</td>\n",
       "      <td>0</td>\n",
       "      <td>0.0</td>\n",
       "      <td>...</td>\n",
       "      <td>0.0</td>\n",
       "      <td>0.0</td>\n",
       "      <td>0.0</td>\n",
       "      <td>0.000000</td>\n",
       "      <td>0.0</td>\n",
       "      <td>0.000000</td>\n",
       "      <td>0.0</td>\n",
       "      <td>0.0</td>\n",
       "      <td>0.0</td>\n",
       "      <td>0.0</td>\n",
       "    </tr>\n",
       "    <tr>\n",
       "      <th>2</th>\n",
       "      <td>enron actuals march 30 april 1 201 estimated a...</td>\n",
       "      <td>0</td>\n",
       "      <td>148</td>\n",
       "      <td>28</td>\n",
       "      <td>4.321429</td>\n",
       "      <td>0</td>\n",
       "      <td>0</td>\n",
       "      <td>0</td>\n",
       "      <td>0</td>\n",
       "      <td>0.0</td>\n",
       "      <td>...</td>\n",
       "      <td>0.0</td>\n",
       "      <td>0.0</td>\n",
       "      <td>0.0</td>\n",
       "      <td>0.000000</td>\n",
       "      <td>0.0</td>\n",
       "      <td>0.000000</td>\n",
       "      <td>0.0</td>\n",
       "      <td>0.0</td>\n",
       "      <td>0.0</td>\n",
       "      <td>0.0</td>\n",
       "    </tr>\n",
       "    <tr>\n",
       "      <th>3</th>\n",
       "      <td>hpl nom may 30 2001 see attached file hplno 53...</td>\n",
       "      <td>0</td>\n",
       "      <td>65</td>\n",
       "      <td>14</td>\n",
       "      <td>3.714286</td>\n",
       "      <td>0</td>\n",
       "      <td>0</td>\n",
       "      <td>0</td>\n",
       "      <td>0</td>\n",
       "      <td>0.0</td>\n",
       "      <td>...</td>\n",
       "      <td>0.0</td>\n",
       "      <td>0.0</td>\n",
       "      <td>0.0</td>\n",
       "      <td>0.000000</td>\n",
       "      <td>0.0</td>\n",
       "      <td>0.000000</td>\n",
       "      <td>0.0</td>\n",
       "      <td>0.0</td>\n",
       "      <td>0.0</td>\n",
       "      <td>0.0</td>\n",
       "    </tr>\n",
       "    <tr>\n",
       "      <th>4</th>\n",
       "      <td>hpl nom june 1 2001 see attached file hplno 60...</td>\n",
       "      <td>0</td>\n",
       "      <td>65</td>\n",
       "      <td>14</td>\n",
       "      <td>3.714286</td>\n",
       "      <td>0</td>\n",
       "      <td>0</td>\n",
       "      <td>0</td>\n",
       "      <td>0</td>\n",
       "      <td>0.0</td>\n",
       "      <td>...</td>\n",
       "      <td>0.0</td>\n",
       "      <td>0.0</td>\n",
       "      <td>0.0</td>\n",
       "      <td>0.000000</td>\n",
       "      <td>0.0</td>\n",
       "      <td>0.000000</td>\n",
       "      <td>0.0</td>\n",
       "      <td>0.0</td>\n",
       "      <td>0.0</td>\n",
       "      <td>0.0</td>\n",
       "    </tr>\n",
       "    <tr>\n",
       "      <th>...</th>\n",
       "      <td>...</td>\n",
       "      <td>...</td>\n",
       "      <td>...</td>\n",
       "      <td>...</td>\n",
       "      <td>...</td>\n",
       "      <td>...</td>\n",
       "      <td>...</td>\n",
       "      <td>...</td>\n",
       "      <td>...</td>\n",
       "      <td>...</td>\n",
       "      <td>...</td>\n",
       "      <td>...</td>\n",
       "      <td>...</td>\n",
       "      <td>...</td>\n",
       "      <td>...</td>\n",
       "      <td>...</td>\n",
       "      <td>...</td>\n",
       "      <td>...</td>\n",
       "      <td>...</td>\n",
       "      <td>...</td>\n",
       "      <td>...</td>\n",
       "    </tr>\n",
       "    <tr>\n",
       "      <th>82481</th>\n",
       "      <td>info advantageapartmentscom infoadvantageapart...</td>\n",
       "      <td>1</td>\n",
       "      <td>1735</td>\n",
       "      <td>238</td>\n",
       "      <td>6.294118</td>\n",
       "      <td>0</td>\n",
       "      <td>0</td>\n",
       "      <td>0</td>\n",
       "      <td>34</td>\n",
       "      <td>0.0</td>\n",
       "      <td>...</td>\n",
       "      <td>0.0</td>\n",
       "      <td>0.0</td>\n",
       "      <td>0.0</td>\n",
       "      <td>0.000000</td>\n",
       "      <td>0.0</td>\n",
       "      <td>0.000000</td>\n",
       "      <td>0.0</td>\n",
       "      <td>0.0</td>\n",
       "      <td>0.0</td>\n",
       "      <td>0.0</td>\n",
       "    </tr>\n",
       "    <tr>\n",
       "      <th>82482</th>\n",
       "      <td>monkeyorg helpdeskmonkeyorg monkeyorg hi josep...</td>\n",
       "      <td>1</td>\n",
       "      <td>188</td>\n",
       "      <td>22</td>\n",
       "      <td>7.590909</td>\n",
       "      <td>0</td>\n",
       "      <td>0</td>\n",
       "      <td>0</td>\n",
       "      <td>0</td>\n",
       "      <td>0.0</td>\n",
       "      <td>...</td>\n",
       "      <td>0.0</td>\n",
       "      <td>0.0</td>\n",
       "      <td>0.0</td>\n",
       "      <td>0.000000</td>\n",
       "      <td>0.0</td>\n",
       "      <td>0.000000</td>\n",
       "      <td>0.0</td>\n",
       "      <td>0.0</td>\n",
       "      <td>0.0</td>\n",
       "      <td>0.0</td>\n",
       "    </tr>\n",
       "    <tr>\n",
       "      <th>82483</th>\n",
       "      <td>help center infohelpcentercoza_infohelpcenterc...</td>\n",
       "      <td>1</td>\n",
       "      <td>948</td>\n",
       "      <td>108</td>\n",
       "      <td>7.787037</td>\n",
       "      <td>0</td>\n",
       "      <td>0</td>\n",
       "      <td>0</td>\n",
       "      <td>2</td>\n",
       "      <td>0.0</td>\n",
       "      <td>...</td>\n",
       "      <td>0.0</td>\n",
       "      <td>0.0</td>\n",
       "      <td>0.0</td>\n",
       "      <td>0.000000</td>\n",
       "      <td>0.0</td>\n",
       "      <td>0.000000</td>\n",
       "      <td>0.0</td>\n",
       "      <td>0.0</td>\n",
       "      <td>0.0</td>\n",
       "      <td>0.0</td>\n",
       "    </tr>\n",
       "    <tr>\n",
       "      <th>82484</th>\n",
       "      <td>metamask infosofamekarcom verify metamask wall...</td>\n",
       "      <td>1</td>\n",
       "      <td>376</td>\n",
       "      <td>50</td>\n",
       "      <td>6.540000</td>\n",
       "      <td>0</td>\n",
       "      <td>0</td>\n",
       "      <td>0</td>\n",
       "      <td>0</td>\n",
       "      <td>0.0</td>\n",
       "      <td>...</td>\n",
       "      <td>0.0</td>\n",
       "      <td>0.0</td>\n",
       "      <td>0.0</td>\n",
       "      <td>0.000000</td>\n",
       "      <td>0.0</td>\n",
       "      <td>0.000000</td>\n",
       "      <td>0.0</td>\n",
       "      <td>0.0</td>\n",
       "      <td>0.0</td>\n",
       "      <td>0.0</td>\n",
       "    </tr>\n",
       "    <tr>\n",
       "      <th>82485</th>\n",
       "      <td>fastway infofastwaycoza_infofastwaycoza_infofa...</td>\n",
       "      <td>1</td>\n",
       "      <td>819</td>\n",
       "      <td>112</td>\n",
       "      <td>6.321429</td>\n",
       "      <td>0</td>\n",
       "      <td>0</td>\n",
       "      <td>0</td>\n",
       "      <td>2</td>\n",
       "      <td>0.0</td>\n",
       "      <td>...</td>\n",
       "      <td>0.0</td>\n",
       "      <td>0.0</td>\n",
       "      <td>0.0</td>\n",
       "      <td>0.795693</td>\n",
       "      <td>0.0</td>\n",
       "      <td>0.089245</td>\n",
       "      <td>0.0</td>\n",
       "      <td>0.0</td>\n",
       "      <td>0.0</td>\n",
       "      <td>0.0</td>\n",
       "    </tr>\n",
       "  </tbody>\n",
       "</table>\n",
       "<p>82486 rows × 113 columns</p>\n",
       "</div>"
      ],
      "text/plain": [
       "                                           text_combined  label  char_count  \\\n",
       "0      hpl nom may 25 2001 see attached file hplno 52...      0          65   \n",
       "1      nom actual vols 24 th forwarded sabrae zajac h...      0        1071   \n",
       "2      enron actuals march 30 april 1 201 estimated a...      0         148   \n",
       "3      hpl nom may 30 2001 see attached file hplno 53...      0          65   \n",
       "4      hpl nom june 1 2001 see attached file hplno 60...      0          65   \n",
       "...                                                  ...    ...         ...   \n",
       "82481  info advantageapartmentscom infoadvantageapart...      1        1735   \n",
       "82482  monkeyorg helpdeskmonkeyorg monkeyorg hi josep...      1         188   \n",
       "82483  help center infohelpcentercoza_infohelpcenterc...      1         948   \n",
       "82484  metamask infosofamekarcom verify metamask wall...      1         376   \n",
       "82485  fastway infofastwaycoza_infofastwaycoza_infofa...      1         819   \n",
       "\n",
       "       text_length  avg_word_length  uppercase_count  exclamation_count  \\\n",
       "0               14         3.714286                0                  0   \n",
       "1              208         4.153846                0                  0   \n",
       "2               28         4.321429                0                  0   \n",
       "3               14         3.714286                0                  0   \n",
       "4               14         3.714286                0                  0   \n",
       "...            ...              ...              ...                ...   \n",
       "82481          238         6.294118                0                  0   \n",
       "82482           22         7.590909                0                  0   \n",
       "82483          108         7.787037                0                  0   \n",
       "82484           50         6.540000                0                  0   \n",
       "82485          112         6.321429                0                  0   \n",
       "\n",
       "       question_count  special_char_count  uppercase_proportion  ...  using  \\\n",
       "0                   0                   0                   0.0  ...    0.0   \n",
       "1                   0                   0                   0.0  ...    0.0   \n",
       "2                   0                   0                   0.0  ...    0.0   \n",
       "3                   0                   0                   0.0  ...    0.0   \n",
       "4                   0                   0                   0.0  ...    0.0   \n",
       "...               ...                 ...                   ...  ...    ...   \n",
       "82481               0                  34                   0.0  ...    0.0   \n",
       "82482               0                   0                   0.0  ...    0.0   \n",
       "82483               0                   2                   0.0  ...    0.0   \n",
       "82484               0                   0                   0.0  ...    0.0   \n",
       "82485               0                   2                   0.0  ...    0.0   \n",
       "\n",
       "       virus  want       way  web       wed  well  work  would  wrote  \n",
       "0        0.0   0.0  0.000000  0.0  0.000000   0.0   0.0    0.0    0.0  \n",
       "1        0.0   0.0  0.000000  0.0  0.000000   0.0   0.0    0.0    0.0  \n",
       "2        0.0   0.0  0.000000  0.0  0.000000   0.0   0.0    0.0    0.0  \n",
       "3        0.0   0.0  0.000000  0.0  0.000000   0.0   0.0    0.0    0.0  \n",
       "4        0.0   0.0  0.000000  0.0  0.000000   0.0   0.0    0.0    0.0  \n",
       "...      ...   ...       ...  ...       ...   ...   ...    ...    ...  \n",
       "82481    0.0   0.0  0.000000  0.0  0.000000   0.0   0.0    0.0    0.0  \n",
       "82482    0.0   0.0  0.000000  0.0  0.000000   0.0   0.0    0.0    0.0  \n",
       "82483    0.0   0.0  0.000000  0.0  0.000000   0.0   0.0    0.0    0.0  \n",
       "82484    0.0   0.0  0.000000  0.0  0.000000   0.0   0.0    0.0    0.0  \n",
       "82485    0.0   0.0  0.795693  0.0  0.089245   0.0   0.0    0.0    0.0  \n",
       "\n",
       "[82486 rows x 113 columns]"
      ]
     },
     "execution_count": 45,
     "metadata": {},
     "output_type": "execute_result"
    }
   ],
   "source": [
    "df"
   ]
  },
  {
   "cell_type": "markdown",
   "id": "dd5cbb01-119a-4aed-8ab9-627c3a9e02e4",
   "metadata": {},
   "source": [
    "## List of spam-related words"
   ]
  },
  {
   "cell_type": "code",
   "execution_count": 46,
   "id": "171400e8-41bf-4f80-a8f4-c2a64ba9b9e1",
   "metadata": {
    "execution": {
     "iopub.execute_input": "2024-07-30T12:13:14.889907Z",
     "iopub.status.busy": "2024-07-30T12:13:14.889481Z",
     "iopub.status.idle": "2024-07-30T12:13:34.673923Z",
     "shell.execute_reply": "2024-07-30T12:13:34.672766Z",
     "shell.execute_reply.started": "2024-07-30T12:13:14.889871Z"
    },
    "tags": []
   },
   "outputs": [],
   "source": [
    "spam_words = ['free', 'win', 'winner', 'prize', 'cash', 'urgent', 'limited', 'act now', 'buy', 'cheap', \n",
    "              'discount', 'offer', 'credit', 'congratulations', 'risk-free', 'guarantee', 'save', 'order now', \n",
    "              'deal', 'click', 'subscribe', 'bonus']\n",
    "\n",
    "# Add individual counts for each spam-related word\n",
    "for word in spam_words:\n",
    "    df[f'{word}_count'] = df['text_combined'].apply(lambda x: x.lower().split().count(word))\n",
    "\n",
    "# Calculate correlation of each spam word count with the label\n",
    "correlation = df[[f'{word}_count' for word in spam_words] + ['label']].corr()['label'].drop('label')\n",
    "\n",
    "# Select words with positive correlation\n",
    "positive_spam_words = correlation[correlation > 0].index\n",
    "\n",
    "# Aggregate counts of positively correlated spam words\n",
    "df['positive_spam_word_count'] = df[positive_spam_words].sum(axis=1)"
   ]
  },
  {
   "cell_type": "code",
   "execution_count": 47,
   "id": "47bd4ad9-f1ec-4b15-955b-ce27440c7963",
   "metadata": {
    "execution": {
     "iopub.execute_input": "2024-07-30T12:13:34.675547Z",
     "iopub.status.busy": "2024-07-30T12:13:34.675363Z",
     "iopub.status.idle": "2024-07-30T12:13:34.692239Z",
     "shell.execute_reply": "2024-07-30T12:13:34.691278Z",
     "shell.execute_reply.started": "2024-07-30T12:13:34.675530Z"
    },
    "tags": []
   },
   "outputs": [
    {
     "name": "stdout",
     "output_type": "stream",
     "text": [
      "Words with positive correlation to label: ['free_count', 'win_count', 'winner_count', 'prize_count', 'cash_count', 'urgent_count', 'buy_count', 'cheap_count', 'discount_count', 'offer_count', 'congratulations_count', 'guarantee_count', 'save_count', 'click_count', 'bonus_count']\n",
      "                                       text_combined  label  \\\n",
      "0  hpl nom may 25 2001 see attached file hplno 52...      0   \n",
      "1  nom actual vols 24 th forwarded sabrae zajac h...      0   \n",
      "2  enron actuals march 30 april 1 201 estimated a...      0   \n",
      "3  hpl nom may 30 2001 see attached file hplno 53...      0   \n",
      "4  hpl nom june 1 2001 see attached file hplno 60...      0   \n",
      "\n",
      "   positive_spam_word_count  sentiment  \n",
      "0                         0     0.0000  \n",
      "1                         0     0.9313  \n",
      "2                         0     0.0000  \n",
      "3                         0     0.0000  \n",
      "4                         0     0.0000  \n"
     ]
    }
   ],
   "source": [
    "# Print the correlation of spam words to the label\n",
    "print(f'Words with positive correlation to label: {list(positive_spam_words)}')\n",
    "print(df[['text_combined', 'label', 'positive_spam_word_count', 'sentiment']].head())"
   ]
  },
  {
   "cell_type": "code",
   "execution_count": 52,
   "id": "470be6cc-52cd-4572-8807-af22ba355839",
   "metadata": {
    "execution": {
     "iopub.execute_input": "2024-07-30T12:17:27.642568Z",
     "iopub.status.busy": "2024-07-30T12:17:27.642129Z",
     "iopub.status.idle": "2024-07-30T12:17:27.658265Z",
     "shell.execute_reply": "2024-07-30T12:17:27.657338Z",
     "shell.execute_reply.started": "2024-07-30T12:17:27.642531Z"
    },
    "tags": []
   },
   "outputs": [
    {
     "name": "stdout",
     "output_type": "stream",
     "text": [
      "free_count: 8483 non-zero values\n",
      "win_count: 819 non-zero values\n",
      "winner_count: 415 non-zero values\n",
      "prize_count: 451 non-zero values\n",
      "cash_count: 2211 non-zero values\n",
      "urgent_count: 2024 non-zero values\n",
      "limited_count: 3044 non-zero values\n",
      "act now_count: 0 non-zero values\n",
      "buy_count: 3417 non-zero values\n",
      "cheap_count: 1324 non-zero values\n",
      "discount_count: 703 non-zero values\n",
      "offer_count: 5823 non-zero values\n",
      "credit_count: 2498 non-zero values\n",
      "congratulations_count: 613 non-zero values\n",
      "risk-free_count: 0 non-zero values\n",
      "guarantee_count: 1366 non-zero values\n",
      "save_count: 4392 non-zero values\n",
      "order now_count: 0 non-zero values\n",
      "deal_count: 6002 non-zero values\n",
      "click_count: 8206 non-zero values\n",
      "subscribe_count: 960 non-zero values\n",
      "bonus_count: 551 non-zero values\n"
     ]
    }
   ],
   "source": [
    "#check how many columns are there:\n",
    "spam_columns = [f'{word}_count' for word in spam_words]\n",
    "\n",
    "non_zero_counts = {}\n",
    "\n",
    "# Iterate over the columns and count non-zero values\n",
    "for column in spam_columns:\n",
    "    non_zero_counts[column] = (df[column] != 0).sum()\n",
    "\n",
    "for column, count in non_zero_counts.items():\n",
    "    print(f'{column}: {count} non-zero values')"
   ]
  },
  {
   "cell_type": "code",
   "execution_count": null,
   "id": "874f95df-ecc6-49f0-ab88-de3dc1b41074",
   "metadata": {},
   "outputs": [],
   "source": []
  },
  {
   "cell_type": "code",
   "execution_count": 53,
   "id": "fdb47606-390f-4a2f-8627-b70022c7e489",
   "metadata": {
    "execution": {
     "iopub.execute_input": "2024-07-30T12:18:08.715035Z",
     "iopub.status.busy": "2024-07-30T12:18:08.714492Z",
     "iopub.status.idle": "2024-07-30T12:18:08.753048Z",
     "shell.execute_reply": "2024-07-30T12:18:08.752273Z",
     "shell.execute_reply.started": "2024-07-30T12:18:08.714995Z"
    },
    "tags": []
   },
   "outputs": [
    {
     "data": {
      "text/html": [
       "<div>\n",
       "<style scoped>\n",
       "    .dataframe tbody tr th:only-of-type {\n",
       "        vertical-align: middle;\n",
       "    }\n",
       "\n",
       "    .dataframe tbody tr th {\n",
       "        vertical-align: top;\n",
       "    }\n",
       "\n",
       "    .dataframe thead th {\n",
       "        text-align: right;\n",
       "    }\n",
       "</style>\n",
       "<table border=\"1\" class=\"dataframe\">\n",
       "  <thead>\n",
       "    <tr style=\"text-align: right;\">\n",
       "      <th></th>\n",
       "      <th>text_combined</th>\n",
       "      <th>label</th>\n",
       "      <th>char_count</th>\n",
       "      <th>text_length</th>\n",
       "      <th>avg_word_length</th>\n",
       "      <th>uppercase_count</th>\n",
       "      <th>exclamation_count</th>\n",
       "      <th>question_count</th>\n",
       "      <th>special_char_count</th>\n",
       "      <th>uppercase_proportion</th>\n",
       "      <th>...</th>\n",
       "      <th>congratulations_count</th>\n",
       "      <th>risk-free_count</th>\n",
       "      <th>guarantee_count</th>\n",
       "      <th>save_count</th>\n",
       "      <th>order now_count</th>\n",
       "      <th>deal_count</th>\n",
       "      <th>click_count</th>\n",
       "      <th>subscribe_count</th>\n",
       "      <th>bonus_count</th>\n",
       "      <th>positive_spam_word_count</th>\n",
       "    </tr>\n",
       "  </thead>\n",
       "  <tbody>\n",
       "    <tr>\n",
       "      <th>0</th>\n",
       "      <td>hpl nom may 25 2001 see attached file hplno 52...</td>\n",
       "      <td>0</td>\n",
       "      <td>65</td>\n",
       "      <td>14</td>\n",
       "      <td>3.714286</td>\n",
       "      <td>0</td>\n",
       "      <td>0</td>\n",
       "      <td>0</td>\n",
       "      <td>0</td>\n",
       "      <td>0.0</td>\n",
       "      <td>...</td>\n",
       "      <td>0</td>\n",
       "      <td>0</td>\n",
       "      <td>0</td>\n",
       "      <td>0</td>\n",
       "      <td>0</td>\n",
       "      <td>0</td>\n",
       "      <td>0</td>\n",
       "      <td>0</td>\n",
       "      <td>0</td>\n",
       "      <td>0</td>\n",
       "    </tr>\n",
       "    <tr>\n",
       "      <th>1</th>\n",
       "      <td>nom actual vols 24 th forwarded sabrae zajac h...</td>\n",
       "      <td>0</td>\n",
       "      <td>1071</td>\n",
       "      <td>208</td>\n",
       "      <td>4.153846</td>\n",
       "      <td>0</td>\n",
       "      <td>0</td>\n",
       "      <td>0</td>\n",
       "      <td>0</td>\n",
       "      <td>0.0</td>\n",
       "      <td>...</td>\n",
       "      <td>0</td>\n",
       "      <td>0</td>\n",
       "      <td>0</td>\n",
       "      <td>0</td>\n",
       "      <td>0</td>\n",
       "      <td>0</td>\n",
       "      <td>0</td>\n",
       "      <td>0</td>\n",
       "      <td>0</td>\n",
       "      <td>0</td>\n",
       "    </tr>\n",
       "    <tr>\n",
       "      <th>2</th>\n",
       "      <td>enron actuals march 30 april 1 201 estimated a...</td>\n",
       "      <td>0</td>\n",
       "      <td>148</td>\n",
       "      <td>28</td>\n",
       "      <td>4.321429</td>\n",
       "      <td>0</td>\n",
       "      <td>0</td>\n",
       "      <td>0</td>\n",
       "      <td>0</td>\n",
       "      <td>0.0</td>\n",
       "      <td>...</td>\n",
       "      <td>0</td>\n",
       "      <td>0</td>\n",
       "      <td>0</td>\n",
       "      <td>0</td>\n",
       "      <td>0</td>\n",
       "      <td>0</td>\n",
       "      <td>0</td>\n",
       "      <td>0</td>\n",
       "      <td>0</td>\n",
       "      <td>0</td>\n",
       "    </tr>\n",
       "    <tr>\n",
       "      <th>3</th>\n",
       "      <td>hpl nom may 30 2001 see attached file hplno 53...</td>\n",
       "      <td>0</td>\n",
       "      <td>65</td>\n",
       "      <td>14</td>\n",
       "      <td>3.714286</td>\n",
       "      <td>0</td>\n",
       "      <td>0</td>\n",
       "      <td>0</td>\n",
       "      <td>0</td>\n",
       "      <td>0.0</td>\n",
       "      <td>...</td>\n",
       "      <td>0</td>\n",
       "      <td>0</td>\n",
       "      <td>0</td>\n",
       "      <td>0</td>\n",
       "      <td>0</td>\n",
       "      <td>0</td>\n",
       "      <td>0</td>\n",
       "      <td>0</td>\n",
       "      <td>0</td>\n",
       "      <td>0</td>\n",
       "    </tr>\n",
       "    <tr>\n",
       "      <th>4</th>\n",
       "      <td>hpl nom june 1 2001 see attached file hplno 60...</td>\n",
       "      <td>0</td>\n",
       "      <td>65</td>\n",
       "      <td>14</td>\n",
       "      <td>3.714286</td>\n",
       "      <td>0</td>\n",
       "      <td>0</td>\n",
       "      <td>0</td>\n",
       "      <td>0</td>\n",
       "      <td>0.0</td>\n",
       "      <td>...</td>\n",
       "      <td>0</td>\n",
       "      <td>0</td>\n",
       "      <td>0</td>\n",
       "      <td>0</td>\n",
       "      <td>0</td>\n",
       "      <td>0</td>\n",
       "      <td>0</td>\n",
       "      <td>0</td>\n",
       "      <td>0</td>\n",
       "      <td>0</td>\n",
       "    </tr>\n",
       "    <tr>\n",
       "      <th>...</th>\n",
       "      <td>...</td>\n",
       "      <td>...</td>\n",
       "      <td>...</td>\n",
       "      <td>...</td>\n",
       "      <td>...</td>\n",
       "      <td>...</td>\n",
       "      <td>...</td>\n",
       "      <td>...</td>\n",
       "      <td>...</td>\n",
       "      <td>...</td>\n",
       "      <td>...</td>\n",
       "      <td>...</td>\n",
       "      <td>...</td>\n",
       "      <td>...</td>\n",
       "      <td>...</td>\n",
       "      <td>...</td>\n",
       "      <td>...</td>\n",
       "      <td>...</td>\n",
       "      <td>...</td>\n",
       "      <td>...</td>\n",
       "      <td>...</td>\n",
       "    </tr>\n",
       "    <tr>\n",
       "      <th>82481</th>\n",
       "      <td>info advantageapartmentscom infoadvantageapart...</td>\n",
       "      <td>1</td>\n",
       "      <td>1735</td>\n",
       "      <td>238</td>\n",
       "      <td>6.294118</td>\n",
       "      <td>0</td>\n",
       "      <td>0</td>\n",
       "      <td>0</td>\n",
       "      <td>34</td>\n",
       "      <td>0.0</td>\n",
       "      <td>...</td>\n",
       "      <td>0</td>\n",
       "      <td>0</td>\n",
       "      <td>0</td>\n",
       "      <td>0</td>\n",
       "      <td>0</td>\n",
       "      <td>0</td>\n",
       "      <td>2</td>\n",
       "      <td>0</td>\n",
       "      <td>0</td>\n",
       "      <td>2</td>\n",
       "    </tr>\n",
       "    <tr>\n",
       "      <th>82482</th>\n",
       "      <td>monkeyorg helpdeskmonkeyorg monkeyorg hi josep...</td>\n",
       "      <td>1</td>\n",
       "      <td>188</td>\n",
       "      <td>22</td>\n",
       "      <td>7.590909</td>\n",
       "      <td>0</td>\n",
       "      <td>0</td>\n",
       "      <td>0</td>\n",
       "      <td>0</td>\n",
       "      <td>0.0</td>\n",
       "      <td>...</td>\n",
       "      <td>0</td>\n",
       "      <td>0</td>\n",
       "      <td>0</td>\n",
       "      <td>0</td>\n",
       "      <td>0</td>\n",
       "      <td>0</td>\n",
       "      <td>0</td>\n",
       "      <td>0</td>\n",
       "      <td>0</td>\n",
       "      <td>0</td>\n",
       "    </tr>\n",
       "    <tr>\n",
       "      <th>82483</th>\n",
       "      <td>help center infohelpcentercoza_infohelpcenterc...</td>\n",
       "      <td>1</td>\n",
       "      <td>948</td>\n",
       "      <td>108</td>\n",
       "      <td>7.787037</td>\n",
       "      <td>0</td>\n",
       "      <td>0</td>\n",
       "      <td>0</td>\n",
       "      <td>2</td>\n",
       "      <td>0.0</td>\n",
       "      <td>...</td>\n",
       "      <td>0</td>\n",
       "      <td>0</td>\n",
       "      <td>0</td>\n",
       "      <td>0</td>\n",
       "      <td>0</td>\n",
       "      <td>0</td>\n",
       "      <td>0</td>\n",
       "      <td>0</td>\n",
       "      <td>0</td>\n",
       "      <td>0</td>\n",
       "    </tr>\n",
       "    <tr>\n",
       "      <th>82484</th>\n",
       "      <td>metamask infosofamekarcom verify metamask wall...</td>\n",
       "      <td>1</td>\n",
       "      <td>376</td>\n",
       "      <td>50</td>\n",
       "      <td>6.540000</td>\n",
       "      <td>0</td>\n",
       "      <td>0</td>\n",
       "      <td>0</td>\n",
       "      <td>0</td>\n",
       "      <td>0.0</td>\n",
       "      <td>...</td>\n",
       "      <td>0</td>\n",
       "      <td>0</td>\n",
       "      <td>0</td>\n",
       "      <td>0</td>\n",
       "      <td>0</td>\n",
       "      <td>0</td>\n",
       "      <td>0</td>\n",
       "      <td>0</td>\n",
       "      <td>0</td>\n",
       "      <td>0</td>\n",
       "    </tr>\n",
       "    <tr>\n",
       "      <th>82485</th>\n",
       "      <td>fastway infofastwaycoza_infofastwaycoza_infofa...</td>\n",
       "      <td>1</td>\n",
       "      <td>819</td>\n",
       "      <td>112</td>\n",
       "      <td>6.321429</td>\n",
       "      <td>0</td>\n",
       "      <td>0</td>\n",
       "      <td>0</td>\n",
       "      <td>2</td>\n",
       "      <td>0.0</td>\n",
       "      <td>...</td>\n",
       "      <td>0</td>\n",
       "      <td>0</td>\n",
       "      <td>0</td>\n",
       "      <td>0</td>\n",
       "      <td>0</td>\n",
       "      <td>0</td>\n",
       "      <td>0</td>\n",
       "      <td>0</td>\n",
       "      <td>0</td>\n",
       "      <td>0</td>\n",
       "    </tr>\n",
       "  </tbody>\n",
       "</table>\n",
       "<p>82486 rows × 136 columns</p>\n",
       "</div>"
      ],
      "text/plain": [
       "                                           text_combined  label  char_count  \\\n",
       "0      hpl nom may 25 2001 see attached file hplno 52...      0          65   \n",
       "1      nom actual vols 24 th forwarded sabrae zajac h...      0        1071   \n",
       "2      enron actuals march 30 april 1 201 estimated a...      0         148   \n",
       "3      hpl nom may 30 2001 see attached file hplno 53...      0          65   \n",
       "4      hpl nom june 1 2001 see attached file hplno 60...      0          65   \n",
       "...                                                  ...    ...         ...   \n",
       "82481  info advantageapartmentscom infoadvantageapart...      1        1735   \n",
       "82482  monkeyorg helpdeskmonkeyorg monkeyorg hi josep...      1         188   \n",
       "82483  help center infohelpcentercoza_infohelpcenterc...      1         948   \n",
       "82484  metamask infosofamekarcom verify metamask wall...      1         376   \n",
       "82485  fastway infofastwaycoza_infofastwaycoza_infofa...      1         819   \n",
       "\n",
       "       text_length  avg_word_length  uppercase_count  exclamation_count  \\\n",
       "0               14         3.714286                0                  0   \n",
       "1              208         4.153846                0                  0   \n",
       "2               28         4.321429                0                  0   \n",
       "3               14         3.714286                0                  0   \n",
       "4               14         3.714286                0                  0   \n",
       "...            ...              ...              ...                ...   \n",
       "82481          238         6.294118                0                  0   \n",
       "82482           22         7.590909                0                  0   \n",
       "82483          108         7.787037                0                  0   \n",
       "82484           50         6.540000                0                  0   \n",
       "82485          112         6.321429                0                  0   \n",
       "\n",
       "       question_count  special_char_count  uppercase_proportion  ...  \\\n",
       "0                   0                   0                   0.0  ...   \n",
       "1                   0                   0                   0.0  ...   \n",
       "2                   0                   0                   0.0  ...   \n",
       "3                   0                   0                   0.0  ...   \n",
       "4                   0                   0                   0.0  ...   \n",
       "...               ...                 ...                   ...  ...   \n",
       "82481               0                  34                   0.0  ...   \n",
       "82482               0                   0                   0.0  ...   \n",
       "82483               0                   2                   0.0  ...   \n",
       "82484               0                   0                   0.0  ...   \n",
       "82485               0                   2                   0.0  ...   \n",
       "\n",
       "       congratulations_count  risk-free_count  guarantee_count  save_count  \\\n",
       "0                          0                0                0           0   \n",
       "1                          0                0                0           0   \n",
       "2                          0                0                0           0   \n",
       "3                          0                0                0           0   \n",
       "4                          0                0                0           0   \n",
       "...                      ...              ...              ...         ...   \n",
       "82481                      0                0                0           0   \n",
       "82482                      0                0                0           0   \n",
       "82483                      0                0                0           0   \n",
       "82484                      0                0                0           0   \n",
       "82485                      0                0                0           0   \n",
       "\n",
       "       order now_count  deal_count  click_count  subscribe_count  bonus_count  \\\n",
       "0                    0           0            0                0            0   \n",
       "1                    0           0            0                0            0   \n",
       "2                    0           0            0                0            0   \n",
       "3                    0           0            0                0            0   \n",
       "4                    0           0            0                0            0   \n",
       "...                ...         ...          ...              ...          ...   \n",
       "82481                0           0            2                0            0   \n",
       "82482                0           0            0                0            0   \n",
       "82483                0           0            0                0            0   \n",
       "82484                0           0            0                0            0   \n",
       "82485                0           0            0                0            0   \n",
       "\n",
       "       positive_spam_word_count  \n",
       "0                             0  \n",
       "1                             0  \n",
       "2                             0  \n",
       "3                             0  \n",
       "4                             0  \n",
       "...                         ...  \n",
       "82481                         2  \n",
       "82482                         0  \n",
       "82483                         0  \n",
       "82484                         0  \n",
       "82485                         0  \n",
       "\n",
       "[82486 rows x 136 columns]"
      ]
     },
     "execution_count": 53,
     "metadata": {},
     "output_type": "execute_result"
    }
   ],
   "source": [
    "df"
   ]
  },
  {
   "cell_type": "code",
   "execution_count": null,
   "id": "7aa54d41-8fec-41a3-9597-aeabc60b9525",
   "metadata": {},
   "outputs": [],
   "source": []
  }
 ],
 "metadata": {
  "kernelspec": {
   "display_name": "Python 3 (ipykernel)",
   "language": "python",
   "name": "python3"
  },
  "language_info": {
   "codemirror_mode": {
    "name": "ipython",
    "version": 3
   },
   "file_extension": ".py",
   "mimetype": "text/x-python",
   "name": "python",
   "nbconvert_exporter": "python",
   "pygments_lexer": "ipython3",
   "version": "3.7.13"
  }
 },
 "nbformat": 4,
 "nbformat_minor": 5
}
