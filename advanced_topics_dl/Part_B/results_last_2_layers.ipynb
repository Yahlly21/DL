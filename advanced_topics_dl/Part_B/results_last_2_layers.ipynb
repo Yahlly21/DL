{
 "cells": [
  {
   "cell_type": "code",
   "execution_count": 1,
   "id": "7b6a52a8-2a5a-4d08-bff0-5d9733d58b20",
   "metadata": {
    "execution": {
     "iopub.execute_input": "2024-08-24T08:10:04.600791Z",
     "iopub.status.busy": "2024-08-24T08:10:04.598477Z",
     "iopub.status.idle": "2024-08-24T08:10:04.603660Z",
     "shell.execute_reply": "2024-08-24T08:10:04.603072Z",
     "shell.execute_reply.started": "2024-08-24T08:10:04.600724Z"
    },
    "tags": []
   },
   "outputs": [],
   "source": [
    "# !pip install seaborn\n",
    "# !pip install transformers\n",
    "# !pip install SentencePiece"
   ]
  },
  {
   "cell_type": "code",
   "execution_count": 2,
   "id": "ba56c3da-aac9-43fa-a03d-d663422666d6",
   "metadata": {
    "execution": {
     "iopub.execute_input": "2024-08-25T09:55:42.876709Z",
     "iopub.status.busy": "2024-08-25T09:55:42.876282Z",
     "iopub.status.idle": "2024-08-25T09:55:44.763621Z",
     "shell.execute_reply": "2024-08-25T09:55:44.762628Z",
     "shell.execute_reply.started": "2024-08-25T09:55:42.876672Z"
    },
    "tags": []
   },
   "outputs": [
    {
     "name": "stderr",
     "output_type": "stream",
     "text": [
      "/opt/conda/lib/python3.7/site-packages/tqdm/auto.py:22: TqdmWarning: IProgress not found. Please update jupyter and ipywidgets. See https://ipywidgets.readthedocs.io/en/stable/user_install.html\n",
      "  from .autonotebook import tqdm as notebook_tqdm\n"
     ]
    }
   ],
   "source": [
    "import pandas as pd\n",
    "from pathlib import Path\n",
    "import os\n",
    "import optuna\n",
    "import numpy as np \n",
    "import seaborn as sns\n",
    "import matplotlib.pyplot as plt\n",
    "\n",
    "\n",
    "import torch\n",
    "import torch.nn as nn\n",
    "from torch.utils.data import DataLoader, Dataset\n",
    "from transformers import AdamW\n",
    "import torch.nn.functional as F\n",
    "from torch.utils.data import DataLoader\n",
    "\n",
    "# Huggingface Transformers\n",
    "from transformers import RobertaTokenizer, RobertaForSequenceClassification, DebertaTokenizer, DebertaForSequenceClassification\n",
    "from transformers import Trainer, TrainingArguments, DistilBertForSequenceClassification, DistilBertTokenizerFast, AlbertTokenizer, AlbertForSequenceClassification\n",
    "\n",
    "# For eval\n",
    "from sklearn.metrics import confusion_matrix, accuracy_score, precision_score, recall_score, f1_score, roc_auc_score, roc_curve, precision_recall_curve\n",
    "from sklearn.metrics import accuracy_score, precision_score, recall_score, f1_score\n",
    "from sklearn.model_selection import train_test_split"
   ]
  },
  {
   "cell_type": "code",
   "execution_count": 3,
   "id": "35e86391-2361-491e-89f5-2c43c2bc89de",
   "metadata": {
    "execution": {
     "iopub.execute_input": "2024-08-25T09:55:44.765186Z",
     "iopub.status.busy": "2024-08-25T09:55:44.764925Z",
     "iopub.status.idle": "2024-08-25T09:55:44.944046Z",
     "shell.execute_reply": "2024-08-25T09:55:44.943054Z",
     "shell.execute_reply.started": "2024-08-25T09:55:44.765168Z"
    },
    "tags": []
   },
   "outputs": [],
   "source": [
    "export_dir = Path(os.getcwd())\n",
    "data_path = Path(export_dir, \"data\")\n",
    "device = torch.device(\"cuda\" if torch.cuda.is_available() else \"cpu\")\n",
    "\n",
    "models_dir = Path(export_dir, 'models')\n",
    "\n",
    "test_df = pd.read_csv(Path(data_path,'test_data_only_text_and_labels.csv'))\n",
    "X_test = test_df[\"text_combined\"]\n",
    "y_test = test_df[\"label\"]"
   ]
  },
  {
   "cell_type": "markdown",
   "id": "6203d969-34e5-44a5-bdac-effdbbb13aba",
   "metadata": {},
   "source": [
    "## Change params here:"
   ]
  },
  {
   "cell_type": "code",
   "execution_count": 4,
   "id": "d6cd7266-6fff-4d06-b510-030ad57c3ca3",
   "metadata": {
    "execution": {
     "iopub.execute_input": "2024-08-25T09:55:44.945137Z",
     "iopub.status.busy": "2024-08-25T09:55:44.944975Z",
     "iopub.status.idle": "2024-08-25T09:55:44.949045Z",
     "shell.execute_reply": "2024-08-25T09:55:44.948152Z",
     "shell.execute_reply.started": "2024-08-25T09:55:44.945119Z"
    },
    "tags": []
   },
   "outputs": [],
   "source": [
    "model_name = \"RoBERTa\" #\"RoBERTa\", DeBERTa, distilbert, ALBERT\n",
    "\n",
    "chosen_model = \"finetune_RoBERTa_epoch_9_acc_0.9948.pt\""
   ]
  },
  {
   "cell_type": "code",
   "execution_count": 5,
   "id": "555fb7f1-a691-4b41-b25d-dd4b2a9b36f4",
   "metadata": {
    "execution": {
     "iopub.execute_input": "2024-08-25T09:55:44.950968Z",
     "iopub.status.busy": "2024-08-25T09:55:44.950757Z",
     "iopub.status.idle": "2024-08-25T09:55:44.958031Z",
     "shell.execute_reply": "2024-08-25T09:55:44.957140Z",
     "shell.execute_reply.started": "2024-08-25T09:55:44.950946Z"
    },
    "tags": []
   },
   "outputs": [],
   "source": [
    "class EmailDataset(Dataset):\n",
    "    def __init__(self, dataframe, tokenizer):\n",
    "        self.texts = dataframe['text_combined'].tolist()\n",
    "        self.labels = dataframe['label'].tolist()\n",
    "        self.tokenizer = tokenizer\n",
    "\n",
    "    def __len__(self):\n",
    "        return len(self.texts)\n",
    "\n",
    "    def __getitem__(self, idx):\n",
    "        text = self.texts[idx]\n",
    "        label = self.labels[idx]\n",
    "\n",
    "        # Tokenize the text\n",
    "        encoding = self.tokenizer(\n",
    "            text,\n",
    "            padding='max_length',\n",
    "            truncation=True,\n",
    "            max_length=512,  ####################### Adjust as needed\n",
    "            return_tensors='pt'\n",
    "        )\n",
    "\n",
    "        return {\n",
    "            'input_ids': encoding['input_ids'].squeeze(),\n",
    "            'attention_mask': encoding['attention_mask'].squeeze(),\n",
    "            'labels': torch.tensor(label, dtype=torch.long)\n",
    "        }"
   ]
  },
  {
   "cell_type": "code",
   "execution_count": 6,
   "id": "03292718-431e-4ede-8a0e-47cfc5302dc3",
   "metadata": {
    "collapsed": true,
    "execution": {
     "iopub.execute_input": "2024-08-25T09:55:44.959764Z",
     "iopub.status.busy": "2024-08-25T09:55:44.959305Z",
     "iopub.status.idle": "2024-08-25T09:55:48.836805Z",
     "shell.execute_reply": "2024-08-25T09:55:48.835951Z",
     "shell.execute_reply.started": "2024-08-25T09:55:44.959727Z"
    },
    "jupyter": {
     "outputs_hidden": true
    },
    "tags": []
   },
   "outputs": [
    {
     "name": "stderr",
     "output_type": "stream",
     "text": [
      "Some weights of the model checkpoint at roberta-large were not used when initializing RobertaForSequenceClassification: ['lm_head.layer_norm.weight', 'lm_head.dense.weight', 'lm_head.layer_norm.bias', 'lm_head.dense.bias', 'lm_head.bias']\n",
      "- This IS expected if you are initializing RobertaForSequenceClassification from the checkpoint of a model trained on another task or with another architecture (e.g. initializing a BertForSequenceClassification model from a BertForPreTraining model).\n",
      "- This IS NOT expected if you are initializing RobertaForSequenceClassification from the checkpoint of a model that you expect to be exactly identical (initializing a BertForSequenceClassification model from a BertForSequenceClassification model).\n",
      "Some weights of RobertaForSequenceClassification were not initialized from the model checkpoint at roberta-large and are newly initialized: ['classifier.dense.weight', 'classifier.out_proj.bias', 'classifier.out_proj.weight', 'classifier.dense.bias']\n",
      "You should probably TRAIN this model on a down-stream task to be able to use it for predictions and inference.\n"
     ]
    }
   ],
   "source": [
    "if model_name == \"RoBERTa\": \n",
    "    # RoBERTa tokenizer and model\n",
    "    tokenizer = RobertaTokenizer.from_pretrained('roberta-large')\n",
    "    model = RobertaForSequenceClassification.from_pretrained('roberta-large', num_labels=2).to(device)\n",
    "        \n",
    "        \n",
    "if model_name == \"DeBERTa\": \n",
    "    # DeBERTa tokenizer and model\n",
    "    tokenizer = DebertaTokenizer.from_pretrained('microsoft/deberta-large')\n",
    "    model = DebertaForSequenceClassification.from_pretrained('microsoft/deberta-large', num_labels=2).to(device)\n",
    "\n",
    "    \n",
    "if model_name == \"distilbert\":\n",
    "    model_name = \"distilbert-base-uncased\"\n",
    "    model = DistilBertForSequenceClassification.from_pretrained(model_name, num_labels=2).to(device)\n",
    "    tokenizer = DistilBertTokenizerFast.from_pretrained(model_name)\n",
    "\n",
    "        \n",
    "if model_name == \"ALBERT\": \n",
    "    # ALBERT tokenizer and model\n",
    "    tokenizer = AlbertTokenizer.from_pretrained('albert-base-v2')\n",
    "    model = AlbertForSequenceClassification.from_pretrained('albert-base-v2', num_labels=2).to(device)\n"
   ]
  },
  {
   "cell_type": "code",
   "execution_count": 7,
   "id": "7611ac79-8801-4409-8266-04cb033634f2",
   "metadata": {
    "execution": {
     "iopub.execute_input": "2024-08-25T09:55:48.837789Z",
     "iopub.status.busy": "2024-08-25T09:55:48.837577Z",
     "iopub.status.idle": "2024-08-25T09:55:49.476663Z",
     "shell.execute_reply": "2024-08-25T09:55:49.475891Z",
     "shell.execute_reply.started": "2024-08-25T09:55:48.837772Z"
    },
    "tags": []
   },
   "outputs": [
    {
     "data": {
      "text/plain": [
       "<All keys matched successfully>"
      ]
     },
     "execution_count": 7,
     "metadata": {},
     "output_type": "execute_result"
    }
   ],
   "source": [
    "# Load the saved state_dict of your trained model\n",
    "path = Path(models_dir, chosen_model)\n",
    "model.load_state_dict(torch.load(path))"
   ]
  },
  {
   "cell_type": "code",
   "execution_count": 8,
   "id": "42d8d220-4f11-43f7-b352-2038b91bd9c5",
   "metadata": {
    "execution": {
     "iopub.execute_input": "2024-08-25T09:55:49.477813Z",
     "iopub.status.busy": "2024-08-25T09:55:49.477529Z",
     "iopub.status.idle": "2024-08-25T09:55:49.483164Z",
     "shell.execute_reply": "2024-08-25T09:55:49.482189Z",
     "shell.execute_reply.started": "2024-08-25T09:55:49.477791Z"
    },
    "tags": []
   },
   "outputs": [],
   "source": [
    "test_dataset = EmailDataset(test_df, tokenizer)\n",
    "test_loader = DataLoader(test_dataset, batch_size=8, shuffle=False)"
   ]
  },
  {
   "cell_type": "code",
   "execution_count": 9,
   "id": "bbba0d91-4347-4910-8452-9087fb976af9",
   "metadata": {
    "execution": {
     "iopub.execute_input": "2024-08-25T09:55:49.484488Z",
     "iopub.status.busy": "2024-08-25T09:55:49.484167Z",
     "iopub.status.idle": "2024-08-25T09:55:49.489981Z",
     "shell.execute_reply": "2024-08-25T09:55:49.489419Z",
     "shell.execute_reply.started": "2024-08-25T09:55:49.484450Z"
    },
    "tags": []
   },
   "outputs": [],
   "source": [
    "def get_model_size(model):\n",
    "    return sum(p.numel() for p in model.parameters() if p.requires_grad) * 4 / (1024 ** 2)  # Size in MB\n",
    "\n",
    "total_params = sum(p.numel() for p in model.parameters())"
   ]
  },
  {
   "cell_type": "markdown",
   "id": "98e17ba8-0960-4bf6-bbb3-7372cac4b9ed",
   "metadata": {},
   "source": [
    "# Get all results here"
   ]
  },
  {
   "cell_type": "code",
   "execution_count": 10,
   "id": "2cb21645-78a6-4032-afe4-7fa93cdc5427",
   "metadata": {
    "execution": {
     "iopub.execute_input": "2024-08-25T09:55:49.492167Z",
     "iopub.status.busy": "2024-08-25T09:55:49.491520Z",
     "iopub.status.idle": "2024-08-25T10:00:07.499296Z",
     "shell.execute_reply": "2024-08-25T10:00:07.498399Z",
     "shell.execute_reply.started": "2024-08-25T09:55:49.492139Z"
    },
    "tags": []
   },
   "outputs": [
    {
     "name": "stdout",
     "output_type": "stream",
     "text": [
      "50\n",
      "100\n",
      "150\n",
      "200\n",
      "250\n",
      "300\n",
      "350\n",
      "400\n",
      "450\n",
      "500\n",
      "550\n",
      "600\n",
      "650\n",
      "700\n",
      "750\n",
      "800\n",
      "850\n",
      "900\n",
      "950\n",
      "1000\n",
      "1050\n",
      "1100\n",
      "1150\n",
      "1200\n",
      "1250\n",
      "1300\n",
      "1350\n",
      "1400\n",
      "1450\n",
      "1500\n",
      "1550\n",
      "1600\n",
      "1650\n",
      "1700\n",
      "1750\n",
      "1800\n",
      "1850\n",
      "1900\n",
      "1950\n",
      "2000\n",
      "2050\n",
      "Average Batch Processing Time: 0.1090 seconds\n",
      "Accuracy: 0.9943629530852225\n",
      "Precision: 0.9959093034128097\n",
      "Recall: 0.9932393052803357\n",
      "F1-Score: 0.9945725124015173\n",
      "AUC: 0.9996497274736525\n",
      " Model size: 1355.5976638793945\n",
      "Total number of parameters: 355361794\n",
      "Confusion Matrix:\n"
     ]
    },
    {
     "data": {
      "image/png": "[encoded data removed]",
      "text/plain": [
       "<Figure size 432x288 with 2 Axes>"
      ]
     },
     "metadata": {
      "needs_background": "light"
     },
     "output_type": "display_data"
    },
    {
     "data": {
      "image/png": "[encoded data removed]",
      "text/plain": [
       "<Figure size 432x288 with 1 Axes>"
      ]
     },
     "metadata": {
      "needs_background": "light"
     },
     "output_type": "display_data"
    },
    {
     "data": {
      "image/png": "[encoded data removed]",
      "text/plain": [
       "<Figure size 432x288 with 1 Axes>"
      ]
     },
     "metadata": {
      "needs_background": "light"
     },
     "output_type": "display_data"
    }
   ],
   "source": [
    "import time\n",
    "\n",
    "# Put the pruned model in evaluation mode\n",
    "model.eval()\n",
    "\n",
    "# Store true labels and predictions\n",
    "y_true = y_test.values  # True labels (convert to numpy array)\n",
    "y_pred = []\n",
    "y_scores = []\n",
    "\n",
    "# List to store batch processing times\n",
    "batch_times = []\n",
    "\n",
    "# Get logits from the model\n",
    "with torch.no_grad():\n",
    "    i = 0 \n",
    "    for batch in test_loader:\n",
    "        start_time = time.time()  # Start time for this batch\n",
    "        \n",
    "        input_ids = batch['input_ids'].to(device)\n",
    "        attention_mask = batch['attention_mask'].to(device)\n",
    "\n",
    "        # Forward pass\n",
    "        outputs = model(input_ids=input_ids, attention_mask=attention_mask)\n",
    "        logits = outputs.logits\n",
    "        probs = torch.nn.functional.softmax(logits, dim=-1)  # Get probabilities\n",
    "\n",
    "        # Get the predicted labels and store them\n",
    "        predictions = torch.argmax(probs, dim=1)\n",
    "        y_pred.extend(predictions.cpu().numpy())  # Ensure predictions are on CPU\n",
    "        y_scores.extend(probs[:, 1].cpu().numpy())  # Store the probability for the positive class\n",
    "        \n",
    "        # End time for this batch\n",
    "        end_time = time.time()\n",
    "        batch_times.append(end_time - start_time)  # Store the batch processing time\n",
    "\n",
    "        i += 1\n",
    "        if i % 50 == 0:\n",
    "            print(i)\n",
    "\n",
    "# Convert predictions and scores to numpy arrays\n",
    "y_pred = np.array(y_pred)\n",
    "y_scores = np.array(y_scores)\n",
    "\n",
    "# Calculate and print the average batch time\n",
    "average_batch_time = sum(batch_times) / len(batch_times)\n",
    "print(f\"Average Batch Processing Time: {average_batch_time:.4f} seconds\")\n",
    "\n",
    "# Accuracy\n",
    "accuracy = accuracy_score(y_true, y_pred)\n",
    "print(\"Accuracy:\", accuracy)\n",
    "\n",
    "# Precision, Recall, F1-Score\n",
    "precision = precision_score(y_true, y_pred)\n",
    "recall = recall_score(y_true, y_pred)\n",
    "f1 = f1_score(y_true, y_pred)\n",
    "print(\"Precision:\", precision)\n",
    "print(\"Recall:\", recall)\n",
    "print(\"F1-Score:\", f1)\n",
    "\n",
    "# AUC\n",
    "fpr, tpr, thresholds = roc_curve(y_true, y_scores)\n",
    "auc = roc_auc_score(y_true, y_scores)\n",
    "print(\"AUC:\", auc)\n",
    "\n",
    "print(f\" Model size: {get_model_size(model)}\")\n",
    "print(f\"Total number of parameters: {total_params}\")\n",
    "\n",
    "# Confusion Matrix\n",
    "cm = confusion_matrix(y_true, y_pred)\n",
    "print(\"Confusion Matrix:\")\n",
    "data = cm\n",
    "x_labels = ['Predicted Negative', 'Predicted Positive']\n",
    "y_labels = ['Actual Negative', 'Actual Positive']\n",
    "# Create the heatmap with values inside cells\n",
    "ax = sns.heatmap(data, annot=True, fmt='d', cmap='coolwarm', cbar=True, \n",
    "                 xticklabels=x_labels, yticklabels=y_labels)\n",
    "ax.set_xlabel('Predicted Label')\n",
    "ax.set_ylabel('True Label')\n",
    "plt.show()\n",
    "\n",
    "# ROC Curve\n",
    "plt.figure()\n",
    "plt.plot(fpr, tpr, label=f'ROC curve (area = {auc:.2f})')\n",
    "plt.plot([0, 1], [0, 1], 'k--')\n",
    "plt.xlabel('False Positive Rate')\n",
    "plt.ylabel('True Positive Rate')\n",
    "plt.title('Receiver Operating Characteristic (ROC) Curve')\n",
    "plt.legend(loc=\"lower right\")\n",
    "plt.show()\n",
    "\n",
    "# Precision-Recall Curve\n",
    "precision_vals, recall_vals, thresholds = precision_recall_curve(y_true, y_scores)\n",
    "plt.figure()\n",
    "plt.plot(recall_vals, precision_vals, label='Precision-Recall curve')\n",
    "plt.xlabel('Recall')\n",
    "plt.ylabel('Precision')\n",
    "plt.title('Precision-Recall Curve')\n",
    "plt.legend(loc=\"lower left\")\n",
    "plt.show()"
   ]
  },
  {
   "cell_type": "code",
   "execution_count": null,
   "id": "a34bf13c-c987-4261-a057-fa0f05fcce0b",
   "metadata": {},
   "outputs": [],
   "source": []
  }
 ],
 "metadata": {
  "kernelspec": {
   "display_name": "Python 3 (ipykernel)",
   "language": "python",
   "name": "python3"
  },
  "language_info": {
   "codemirror_mode": {
    "name": "ipython",
    "version": 3
   },
   "file_extension": ".py",
   "mimetype": "text/x-python",
   "name": "python",
   "nbconvert_exporter": "python",
   "pygments_lexer": "ipython3",
   "version": "3.7.13"
  }
 },
 "nbformat": 4,
 "nbformat_minor": 5
}
