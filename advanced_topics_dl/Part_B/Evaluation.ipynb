{
 "cells": [
  {
   "cell_type": "code",
   "execution_count": 4,
   "id": "ba34422c-70c9-4954-92bc-7e05f7901950",
   "metadata": {},
   "outputs": [
    {
     "name": "stderr",
     "output_type": "stream",
     "text": [
      "/opt/conda/lib/python3.10/site-packages/tqdm/auto.py:21: TqdmWarning: IProgress not found. Please update jupyter and ipywidgets. See https://ipywidgets.readthedocs.io/en/stable/user_install.html\n",
      "  from .autonotebook import tqdm as notebook_tqdm\n"
     ]
    }
   ],
   "source": [
    "import pandas as pd\n",
    "import numpy as np\n",
    "import os\n",
    "from pathlib import Path\n",
    "import torch\n",
    "import torch.nn as nn\n",
    "import torch.nn.functional as F\n",
    "import string\n",
    "from sklearn.model_selection import train_test_split\n",
    "import matplotlib.pyplot as plt\n",
    "import seaborn as sns\n",
    "import plotly.express as px\n",
    "from transformers import DistilBertTokenizer, DistilBertForSequenceClassification\n",
    "from transformers import RobertaForSequenceClassification, RobertaTokenizer\n",
    "import torch\n",
    "from sklearn.metrics import confusion_matrix, accuracy_score, precision_score, recall_score, f1_score, roc_auc_score, roc_curve, precision_recall_curve\n",
    "import matplotlib.pyplot as plt\n",
    "import time\n",
    "from transformers import Trainer, TrainingArguments, AlbertForSequenceClassification, AlbertTokenizer\n",
    "from datasets import load_dataset\n",
    "\n",
    "from transformers import Trainer, TrainingArguments, RobertaTokenizer\n",
    "from datasets import Dataset\n",
    "import pandas as pd\n",
    "import time\n",
    "from sklearn.metrics import confusion_matrix, accuracy_score, precision_score, recall_score, f1_score, roc_auc_score, roc_curve, precision_recall_curve\n",
    "from transformers import Trainer, TrainingArguments, RobertaTokenizer\n",
    "from datasets import Dataset\n",
    "import pandas as pd\n",
    "import time\n",
    "from sklearn.metrics import confusion_matrix, accuracy_score, precision_score, recall_score, f1_score, roc_auc_score, roc_curve, precision_recall_curve\n",
    "import torch\n",
    "from transformers import Trainer, TrainingArguments, RobertaForSequenceClassification, RobertaTokenizer\n",
    "from torch.quantization import quantize_dynamic\n",
    "from sklearn.metrics import accuracy_score, precision_recall_fscore_support, confusion_matrix\n",
    "import pandas as pd\n",
    "import numpy as np\n",
    "import os\n",
    "import copy\n",
    "from transformers import Trainer, TrainingArguments, RobertaForSequenceClassification, RobertaTokenizer\n",
    "from datasets import load_dataset\n",
    "import torch.nn.utils.prune as prune\n",
    "import time"
   ]
  },
  {
   "cell_type": "code",
   "execution_count": 5,
   "id": "4c717881-41c6-4dd5-93a2-13f3ff1ac80c",
   "metadata": {},
   "outputs": [],
   "source": [
    "models_list = [\"roberta/fine_tune/prune/pruned_model.pth\",\"albert/checkpoint-9900\",\n",
    "               \"roberta/checkpoint-9900\",\"roberta/fine_tune/distilled_model/checkpoint-3300\",\"roberta-base_20_epochs/checkpoint-6600\"]#\"roberta/fine_tune/quant/quantized_model.pth\",\"albert/fine_tune/quantize/quantized_model.pth\"]"
   ]
  },
  {
   "cell_type": "code",
   "execution_count": 6,
   "id": "aa8303eb-8dec-42b1-afd3-c142095ae2f2",
   "metadata": {},
   "outputs": [],
   "source": [
    "models_list = [\"roberta-base_20_epochs/checkpoint-6600\"]"
   ]
  },
  {
   "cell_type": "code",
   "execution_count": 7,
   "id": "82c6c156-8e91-45be-b2ce-d2f86820452b",
   "metadata": {},
   "outputs": [],
   "source": [
    "\n",
    "# Load data\n",
    "export_dir = Path(os.getcwd())\n",
    "data_path = Path(export_dir, \"data\")\n",
    "train_file = Path(data_path, 'train_data_only_text_and_labels.csv')\n",
    "eval_file = Path(data_path, 'eval_data_only_text_and_labels.csv')\n",
    "test_file = Path(data_path, 'test_data_only_text_and_labels.csv')\n",
    "\n",
    "train_df = pd.read_csv(train_file)\n",
    "eval_df = pd.read_csv(eval_file)\n",
    "test_df = pd.read_csv(test_file)"
   ]
  },
  {
   "cell_type": "markdown",
   "id": "11bdb956-8514-4f5b-b991-1b71dac54c31",
   "metadata": {},
   "source": [
    "## Define eval functions:"
   ]
  },
  {
   "cell_type": "code",
   "execution_count": 8,
   "id": "8fd51d92-4105-47f8-aa93-0b3f8454ccee",
   "metadata": {},
   "outputs": [],
   "source": [
    "def metric_fn(eval_pred):\n",
    "\n",
    "    \n",
    "    # Extract predictions and labels\n",
    "    logits, labels = eval_pred\n",
    "    predictions = np.argmax(logits, axis=-1)  # Convert logits to predicted class\n",
    "    \n",
    "    # Compute basic metrics\n",
    "    accuracy = accuracy_score(labels, predictions)\n",
    "    precision, recall, f1, _ = precision_recall_fscore_support(labels, predictions, average='binary')\n",
    "    \n",
    "    # Compute AUC\n",
    "    if len(np.unique(labels)) > 1:  # Check if there is more than one class in labels\n",
    "        auc = roc_auc_score(labels, logits[:, 1])  # Use probability of the positive class\n",
    "    else:\n",
    "        auc = float('nan')  # If only one class is present, AUC is not defined\n",
    "\n",
    "    # Compute running time\n",
    "\n",
    "    \n",
    "    return {\n",
    "        'accuracy': accuracy,\n",
    "        'precision': precision,\n",
    "        'recall': recall,\n",
    "        'f1': f1,\n",
    "        'auc': auc,\n",
    "    }"
   ]
  },
  {
   "cell_type": "code",
   "execution_count": 9,
   "id": "97ab9b3a-0293-4e17-8ba3-b11b45d2c373",
   "metadata": {},
   "outputs": [
    {
     "name": "stdout",
     "output_type": "stream",
     "text": [
      "roberta-base_20_epochs/checkpoint-6600\n"
     ]
    },
    {
     "name": "stderr",
     "output_type": "stream",
     "text": [
      "/opt/conda/lib/python3.10/site-packages/transformers/tokenization_utils_base.py:1601: FutureWarning: `clean_up_tokenization_spaces` was not set. It will be set to `True` by default. This behavior will be depracted in transformers v4.45, and will be then set to `False` by default. For more details check this issue: https://github.com/huggingface/transformers/issues/31884\n",
      "  warnings.warn(\n",
      "Map: 100%|██████████| 16498/16498 [00:36<00:00, 449.33 examples/s]\n",
      "/opt/conda/lib/python3.10/site-packages/transformers/training_args.py:1525: FutureWarning: `evaluation_strategy` is deprecated and will be removed in version 4.46 of 🤗 Transformers. Use `eval_strategy` instead\n",
      "  warnings.warn(\n",
      "Detected kernel version 5.4.0, which is below the recommended minimum of 5.5.0; this can cause the process to hang. It is recommended to upgrade the kernel to the minimum version or higher.\n"
     ]
    },
    {
     "data": {
      "text/html": [
       "\n",
       "    <div>\n",
       "      \n",
       "      <progress value='330' max='330' style='width:300px; height:20px; vertical-align: middle;'></progress>\n",
       "      [330/330 01:47]\n",
       "    </div>\n",
       "    "
      ],
      "text/plain": [
       "<IPython.core.display.HTML object>"
      ]
     },
     "metadata": {},
     "output_type": "display_data"
    },
    {
     "name": "stderr",
     "output_type": "stream",
     "text": [
      "\u001b[34m\u001b[1mwandb\u001b[0m: \u001b[33mWARNING\u001b[0m The `run_name` is currently set to the same value as `TrainingArguments.output_dir`. If this was not intended, please specify a different run name by setting the `TrainingArguments.run_name` parameter.\n",
      "\u001b[34m\u001b[1mwandb\u001b[0m: Logging into wandb.ai. (Learn how to deploy a W&B server locally: https://wandb.me/wandb-server)\n",
      "\u001b[34m\u001b[1mwandb\u001b[0m: You can find your API key in your browser here: https://wandb.ai/authorize\n",
      "\u001b[34m\u001b[1mwandb\u001b[0m: Paste an API key from your profile and hit enter, or press ctrl+c to quit:"
     ]
    },
    {
     "name": "stdin",
     "output_type": "stream",
     "text": [
      "  ········\n"
     ]
    },
    {
     "name": "stderr",
     "output_type": "stream",
     "text": [
      "\u001b[34m\u001b[1mwandb\u001b[0m: Appending key for api.wandb.ai to your netrc file: /root/.netrc\n"
     ]
    },
    {
     "data": {
      "text/html": [
       "wandb version 0.17.7 is available!  To upgrade, please run:\n",
       " $ pip install wandb --upgrade"
      ],
      "text/plain": [
       "<IPython.core.display.HTML object>"
      ]
     },
     "metadata": {},
     "output_type": "display_data"
    },
    {
     "data": {
      "text/html": [
       "Tracking run with wandb version 0.17.2"
      ],
      "text/plain": [
       "<IPython.core.display.HTML object>"
      ]
     },
     "metadata": {},
     "output_type": "display_data"
    },
    {
     "data": {
      "text/html": [
       "Run data is saved locally in <code>/storage/ronelias/advanced_topics_dl/wandb/run-20240825_161713-i6hkj0ed</code>"
      ],
      "text/plain": [
       "<IPython.core.display.HTML object>"
      ]
     },
     "metadata": {},
     "output_type": "display_data"
    },
    {
     "data": {
      "text/html": [
       "Syncing run <strong><a href='https://wandb.ai/ronelias-tel-aviv-university/huggingface/runs/i6hkj0ed' target=\"_blank\">./results/roberta/fine_tune/prune</a></strong> to <a href='https://wandb.ai/ronelias-tel-aviv-university/huggingface' target=\"_blank\">Weights & Biases</a> (<a href='https://wandb.me/run' target=\"_blank\">docs</a>)<br/>"
      ],
      "text/plain": [
       "<IPython.core.display.HTML object>"
      ]
     },
     "metadata": {},
     "output_type": "display_data"
    },
    {
     "data": {
      "text/html": [
       " View project at <a href='https://wandb.ai/ronelias-tel-aviv-university/huggingface' target=\"_blank\">https://wandb.ai/ronelias-tel-aviv-university/huggingface</a>"
      ],
      "text/plain": [
       "<IPython.core.display.HTML object>"
      ]
     },
     "metadata": {},
     "output_type": "display_data"
    },
    {
     "data": {
      "text/html": [
       " View run at <a href='https://wandb.ai/ronelias-tel-aviv-university/huggingface/runs/i6hkj0ed' target=\"_blank\">https://wandb.ai/ronelias-tel-aviv-university/huggingface/runs/i6hkj0ed</a>"
      ],
      "text/plain": [
       "<IPython.core.display.HTML object>"
      ]
     },
     "metadata": {},
     "output_type": "display_data"
    },
    {
     "name": "stdout",
     "output_type": "stream",
     "text": [
      "{'eval_loss': 0.031802643090486526, 'eval_model_preparation_time': 0.0065, 'eval_accuracy': 0.9923627106315918, 'eval_precision': 0.993807687813997, 'eval_recall': 0.9914908497493881, 'eval_f1': 0.9926479169097912, 'eval_auc': 0.999568512645248, 'eval_runtime': 108.8557, 'eval_samples_per_second': 151.558, 'eval_steps_per_second': 3.032}\n"
     ]
    }
   ],
   "source": [
    "for model_str in models_list:\n",
    "    ### SETUP PARAMS\n",
    "    checkpoint_path = f\"./results/{model_str}\"\n",
    "\n",
    "\n",
    "    # LOAD TOKENIZER\n",
    "    print(model_str)\n",
    "    if \"roberta\" in model_str:\n",
    "        if \"checkpoint\" in model_str:\n",
    "            model = RobertaForSequenceClassification.from_pretrained(checkpoint_path)\n",
    "        else:\n",
    "            model = torch.load(checkpoint_path)\n",
    "        if \"distilled\" in model_str:\n",
    "            tokenizer = RobertaTokenizer.from_pretrained(\"roberta-base\")\n",
    "        else:\n",
    "            tokenizer = RobertaTokenizer.from_pretrained(\"roberta-large\")\n",
    "    if \"albert\" in model_str:\n",
    "        if \"checkpoint\" in model_str:\n",
    "            model = AlbertForSequenceClassification.from_pretrained(checkpoint_path)\n",
    "        else:\n",
    "            model = AlbertForSequenceClassification.from_pretrained(\"albert-base-v2\")\n",
    "            model.load_state_dict(torch.load(checkpoint_path))\n",
    "        if \"distilled\" in model_str:\n",
    "            tokenizer = AlbertTokenizer.from_pretrained(\"albert-base-v2\")\n",
    "        else:\n",
    "            tokenizer = AlbertTokenizer.from_pretrained(\"albert-base-v2\")\n",
    "\n",
    "    \n",
    "\n",
    "\n",
    "    test_dataset = Dataset.from_pandas(test_df)\n",
    "    \n",
    "\n",
    "    \n",
    "    # Define a function to tokenize the inputs\n",
    "    def tokenize_function(examples):\n",
    "        return tokenizer(examples['text_combined'], padding='max_length', truncation=True)\n",
    "    \n",
    "    # Apply the tokenizer to the dataset\n",
    "    tokenized_test_dataset = test_dataset.map(tokenize_function, batched=True)\n",
    "    \n",
    "    # Define evaluation arguments\n",
    "    eval_args = TrainingArguments(\n",
    "        output_dir='./results/roberta/fine_tune/prune',\n",
    "        per_device_eval_batch_size=50,\n",
    "        logging_dir='./results/roberta/fine_tune/prune',\n",
    "        evaluation_strategy=\"epoch\"  # Ensure evaluation is done at the end of each epoch\n",
    "    )\n",
    "    \n",
    "    # Define the Trainer with the quantized model\n",
    "    trainer = Trainer(\n",
    "        model=model,\n",
    "        args=eval_args,\n",
    "        eval_dataset=tokenized_test_dataset,\n",
    "        compute_metrics=metric_fn  \n",
    "    )\n",
    "    \n",
    "    # Evaluate the model on the tokenized test dataset\n",
    "\n",
    "    evaluation_results = trainer.evaluate()\n",
    "\n",
    "    # Print evaluation results\n",
    "    print(evaluation_results)\n",
    "    \n",
    "    with open(f'./results/{model_str}.txt', 'w') as f:\n",
    "        f.write(f\"{evaluation_results}\\n\\n\")\n",
    " "
   ]
  },
  {
   "cell_type": "code",
   "execution_count": null,
   "id": "3fcc31ba-d649-4473-abb2-12f834f364d8",
   "metadata": {},
   "outputs": [],
   "source": []
  },
  {
   "cell_type": "code",
   "execution_count": null,
   "id": "7b0237e3-3938-47e0-ba76-e1bf35f5e3aa",
   "metadata": {},
   "outputs": [],
   "source": []
  }
 ],
 "metadata": {
  "kernelspec": {
   "display_name": "Python 3 (ipykernel)",
   "language": "python",
   "name": "python3"
  },
  "language_info": {
   "codemirror_mode": {
    "name": "ipython",
    "version": 3
   },
   "file_extension": ".py",
   "mimetype": "text/x-python",
   "name": "python",
   "nbconvert_exporter": "python",
   "pygments_lexer": "ipython3",
   "version": "3.10.14"
  }
 },
 "nbformat": 4,
 "nbformat_minor": 5
}
