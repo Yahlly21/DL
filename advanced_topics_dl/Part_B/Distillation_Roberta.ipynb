{
 "cells": [
  {
   "cell_type": "markdown",
   "id": "01098dc4-357c-415e-9c92-1d4bdfc2be4c",
   "metadata": {},
   "source": [
    "# Setup"
   ]
  },
  {
   "cell_type": "code",
   "execution_count": 1,
   "id": "a7909c10-4185-4083-ad50-354e2951dca5",
   "metadata": {},
   "outputs": [
    {
     "name": "stderr",
     "output_type": "stream",
     "text": [
      "/opt/conda/lib/python3.10/site-packages/tqdm/auto.py:21: TqdmWarning: IProgress not found. Please update jupyter and ipywidgets. See https://ipywidgets.readthedocs.io/en/stable/user_install.html\n",
      "  from .autonotebook import tqdm as notebook_tqdm\n",
      "/opt/conda/lib/python3.10/site-packages/transformers/tokenization_utils_base.py:1601: FutureWarning: `clean_up_tokenization_spaces` was not set. It will be set to `True` by default. This behavior will be depracted in transformers v4.45, and will be then set to `False` by default. For more details check this issue: https://github.com/huggingface/transformers/issues/31884\n",
      "  warnings.warn(\n",
      "Some weights of RobertaForSequenceClassification were not initialized from the model checkpoint at roberta-base and are newly initialized: ['classifier.dense.bias', 'classifier.dense.weight', 'classifier.out_proj.bias', 'classifier.out_proj.weight']\n",
      "You should probably TRAIN this model on a down-stream task to be able to use it for predictions and inference.\n"
     ]
    }
   ],
   "source": [
    "import os\n",
    "import torch\n",
    "import numpy as np\n",
    "import pandas as pd\n",
    "from transformers import RobertaForSequenceClassification, RobertaTokenizer, Trainer, TrainingArguments\n",
    "from sklearn.metrics import accuracy_score, precision_recall_fscore_support, confusion_matrix\n",
    "from pathlib import Path\n",
    "\n",
    "# Path to the saved checkpoint\n",
    "checkpoint_path = \"./results/roberta/checkpoint-9900/\"\n",
    "\n",
    "# Load the tokenizer\n",
    "tokenizer = RobertaTokenizer.from_pretrained(\"roberta-large\")\n",
    "\n",
    "# Load the teacher model from the checkpoint directory\n",
    "teacher_model = RobertaForSequenceClassification.from_pretrained(checkpoint_path)\n",
    "\n",
    "# Load the student model\n",
    "student_model = RobertaForSequenceClassification.from_pretrained(\"roberta-base\", num_labels=2)\n"
   ]
  },
  {
   "cell_type": "markdown",
   "id": "f5b36d51-d97b-47bc-9407-a8a045ff30d1",
   "metadata": {},
   "source": [
    "## Load data"
   ]
  },
  {
   "cell_type": "code",
   "execution_count": 6,
   "id": "8445317e-b709-4095-8e88-36a698080426",
   "metadata": {},
   "outputs": [],
   "source": [
    "export_dir = Path(os.getcwd())\n",
    "data_path = Path(export_dir, \"data\")\n",
    "train_file = Path(data_path, 'train_data_only_text_and_labels.csv')\n",
    "eval_file = Path(data_path, 'eval_data_only_text_and_labels.csv')\n",
    "test_file = Path(data_path, 'test_data_only_text_and_labels.csv')\n"
   ]
  },
  {
   "cell_type": "code",
   "execution_count": 7,
   "id": "732ba7f7-c02a-4490-99df-55ca6eae2efe",
   "metadata": {},
   "outputs": [],
   "source": [
    "train_df = pd.read_csv(train_file)\n",
    "eval_df = pd.read_csv(eval_file)\n",
    "test_df = pd.read_csv(test_file)\n",
    "\n",
    "# Convert to Dataset\n",
    "from datasets import Dataset\n",
    "\n",
    "train_dataset = Dataset.from_pandas(train_df)\n",
    "eval_dataset = Dataset.from_pandas(eval_df)\n",
    "test_dataset = Dataset.from_pandas(test_df)\n"
   ]
  },
  {
   "cell_type": "code",
   "execution_count": 9,
   "id": "38ff4605-bb91-43ad-b206-6085e63a38b5",
   "metadata": {},
   "outputs": [],
   "source": [
    "\n",
    "# Tokenize and prepare datasets\n",
    "def tokenize_and_encode(df):\n",
    "    encodings = tokenizer(list(df['text_combined']), truncation=True, padding=True, return_tensors='pt')\n",
    "    labels = torch.tensor(df['label'].values)\n",
    "    return encodings, labels\n",
    "\n",
    "train_encodings, train_labels = tokenize_and_encode(train_df)\n",
    "eval_encodings, eval_labels = tokenize_and_encode(eval_df)\n",
    "test_encodings, test_labels = tokenize_and_encode(test_df)\n",
    "\n",
    "class CustomDataset(torch.utils.data.Dataset):\n",
    "    def __init__(self, encodings, labels):\n",
    "        self.encodings = encodings\n",
    "        self.labels = labels\n",
    "\n",
    "    def __getitem__(self, idx):\n",
    "        item = {key: torch.tensor(val[idx]) for key, val in self.encodings.items()}\n",
    "        item['labels'] = self.labels[idx]\n",
    "        return item\n",
    "\n",
    "    def __len__(self):\n",
    "        return len(self.labels)\n",
    "\n",
    "train_dataset = CustomDataset(train_encodings, train_labels)\n",
    "eval_dataset = CustomDataset(eval_encodings, eval_labels)\n",
    "test_dataset = CustomDataset(test_encodings, test_labels)\n"
   ]
  },
  {
   "cell_type": "markdown",
   "id": "0f01b412-ab46-415e-aef7-281d23327a86",
   "metadata": {},
   "source": [
    "## Distillation Training"
   ]
  },
  {
   "cell_type": "code",
   "execution_count": 10,
   "id": "c22f8479-e4aa-40fd-b25b-9720bdef9640",
   "metadata": {},
   "outputs": [
    {
     "name": "stderr",
     "output_type": "stream",
     "text": [
      "/opt/conda/lib/python3.10/site-packages/transformers/training_args.py:1525: FutureWarning: `evaluation_strategy` is deprecated and will be removed in version 4.46 of 🤗 Transformers. Use `eval_strategy` instead\n",
      "  warnings.warn(\n",
      "Detected kernel version 5.4.0, which is below the recommended minimum of 5.5.0; this can cause the process to hang. It is recommended to upgrade the kernel to the minimum version or higher.\n",
      "/tmp/ipykernel_9890/2833112612.py:17: UserWarning: To copy construct from a tensor, it is recommended to use sourceTensor.clone().detach() or sourceTensor.clone().detach().requires_grad_(True), rather than torch.tensor(sourceTensor).\n",
      "  item = {key: torch.tensor(val[idx]) for key, val in self.encodings.items()}\n"
     ]
    },
    {
     "data": {
      "text/html": [
       "\n",
       "    <div>\n",
       "      \n",
       "      <progress value='9900' max='9900' style='width:300px; height:20px; vertical-align: middle;'></progress>\n",
       "      [9900/9900 1:16:24, Epoch 3/3]\n",
       "    </div>\n",
       "    <table border=\"1\" class=\"dataframe\">\n",
       "  <thead>\n",
       " <tr style=\"text-align: left;\">\n",
       "      <th>Epoch</th>\n",
       "      <th>Training Loss</th>\n",
       "      <th>Validation Loss</th>\n",
       "      <th>Accuracy</th>\n",
       "      <th>Precision</th>\n",
       "      <th>Recall</th>\n",
       "      <th>F1</th>\n",
       "      <th>Tp</th>\n",
       "      <th>Fp</th>\n",
       "      <th>Tn</th>\n",
       "      <th>Fn</th>\n",
       "    </tr>\n",
       "  </thead>\n",
       "  <tbody>\n",
       "    <tr>\n",
       "      <td>1</td>\n",
       "      <td>0.073500</td>\n",
       "      <td>0.064666</td>\n",
       "      <td>0.986437</td>\n",
       "      <td>0.986501</td>\n",
       "      <td>0.986437</td>\n",
       "      <td>0.986434</td>\n",
       "      <td>6813</td>\n",
       "      <td>129</td>\n",
       "      <td>6206</td>\n",
       "      <td>50</td>\n",
       "    </tr>\n",
       "    <tr>\n",
       "      <td>2</td>\n",
       "      <td>0.069500</td>\n",
       "      <td>0.063466</td>\n",
       "      <td>0.987953</td>\n",
       "      <td>0.988018</td>\n",
       "      <td>0.987953</td>\n",
       "      <td>0.987955</td>\n",
       "      <td>6747</td>\n",
       "      <td>43</td>\n",
       "      <td>6292</td>\n",
       "      <td>116</td>\n",
       "    </tr>\n",
       "    <tr>\n",
       "      <td>3</td>\n",
       "      <td>0.020200</td>\n",
       "      <td>0.031794</td>\n",
       "      <td>0.992650</td>\n",
       "      <td>0.992660</td>\n",
       "      <td>0.992650</td>\n",
       "      <td>0.992651</td>\n",
       "      <td>6801</td>\n",
       "      <td>35</td>\n",
       "      <td>6300</td>\n",
       "      <td>62</td>\n",
       "    </tr>\n",
       "  </tbody>\n",
       "</table><p>"
      ],
      "text/plain": [
       "<IPython.core.display.HTML object>"
      ]
     },
     "metadata": {},
     "output_type": "display_data"
    },
    {
     "name": "stderr",
     "output_type": "stream",
     "text": [
      "/tmp/ipykernel_9890/2833112612.py:17: UserWarning: To copy construct from a tensor, it is recommended to use sourceTensor.clone().detach() or sourceTensor.clone().detach().requires_grad_(True), rather than torch.tensor(sourceTensor).\n",
      "  item = {key: torch.tensor(val[idx]) for key, val in self.encodings.items()}\n",
      "/tmp/ipykernel_9890/2833112612.py:17: UserWarning: To copy construct from a tensor, it is recommended to use sourceTensor.clone().detach() or sourceTensor.clone().detach().requires_grad_(True), rather than torch.tensor(sourceTensor).\n",
      "  item = {key: torch.tensor(val[idx]) for key, val in self.encodings.items()}\n",
      "/tmp/ipykernel_9890/2833112612.py:17: UserWarning: To copy construct from a tensor, it is recommended to use sourceTensor.clone().detach() or sourceTensor.clone().detach().requires_grad_(True), rather than torch.tensor(sourceTensor).\n",
      "  item = {key: torch.tensor(val[idx]) for key, val in self.encodings.items()}\n"
     ]
    },
    {
     "data": {
      "text/plain": [
       "TrainOutput(global_step=9900, training_loss=0.07432453906897342, metrics={'train_runtime': 4585.6838, 'train_samples_per_second': 34.536, 'train_steps_per_second': 2.159, 'total_flos': 4.16688978373632e+16, 'train_loss': 0.07432453906897342, 'epoch': 3.0})"
      ]
     },
     "execution_count": 10,
     "metadata": {},
     "output_type": "execute_result"
    }
   ],
   "source": [
    "training_args = TrainingArguments(\n",
    "    output_dir=\"./results/roberta/fine_tune/distilled_model\",\n",
    "    evaluation_strategy=\"epoch\",\n",
    "    save_strategy=\"epoch\",\n",
    "    num_train_epochs=3,\n",
    "    per_device_train_batch_size=16,\n",
    "    per_device_eval_batch_size=16,\n",
    "    logging_dir=\"./results/roberta/fine_tune/distilled_model/logs\",\n",
    "    load_best_model_at_end=True,\n",
    ")\n",
    "\n",
    "def compute_metrics(p):\n",
    "    preds = torch.tensor(np.argmax(p.predictions, axis=1))\n",
    "    labels = torch.tensor(p.label_ids)\n",
    "\n",
    "    # Calculate metrics\n",
    "    accuracy = accuracy_score(labels, preds)\n",
    "    precision, recall, f1, _ = precision_recall_fscore_support(labels, preds, average='weighted')\n",
    "    \n",
    "    # Calculate confusion matrix\n",
    "    conf_matrix = confusion_matrix(labels, preds)\n",
    "    \n",
    "    # Extract TP, FP, TN, FN from confusion matrix\n",
    "    TN, FP, FN, TP = conf_matrix.ravel() if conf_matrix.size == 4 else (0, 0, 0, 0)\n",
    "    return {\n",
    "        'accuracy': accuracy,\n",
    "        'precision': precision,\n",
    "        'recall': recall,\n",
    "        'f1': f1,\n",
    "        'TP': TP,\n",
    "        'FP': FP,\n",
    "        'TN': TN,\n",
    "        'FN': FN\n",
    "    }\n",
    "\n",
    "trainer = Trainer(\n",
    "    model=student_model,\n",
    "    args=training_args,\n",
    "    train_dataset=train_dataset,\n",
    "    eval_dataset=eval_dataset,\n",
    "    compute_metrics=compute_metrics,\n",
    ")\n",
    "\n",
    "trainer.train()\n"
   ]
  },
  {
   "cell_type": "markdown",
   "id": "783a6249-74b3-47b1-87b6-6d7bed0998e5",
   "metadata": {},
   "source": [
    "## Save Metrics and Model Information"
   ]
  },
  {
   "cell_type": "code",
   "execution_count": 11,
   "id": "04138437-d0c7-439b-8a8c-8c8b80da8fc2",
   "metadata": {},
   "outputs": [
    {
     "name": "stderr",
     "output_type": "stream",
     "text": [
      "/tmp/ipykernel_9890/2833112612.py:17: UserWarning: To copy construct from a tensor, it is recommended to use sourceTensor.clone().detach() or sourceTensor.clone().detach().requires_grad_(True), rather than torch.tensor(sourceTensor).\n",
      "  item = {key: torch.tensor(val[idx]) for key, val in self.encodings.items()}\n"
     ]
    },
    {
     "data": {
      "text/html": [
       "\n",
       "    <div>\n",
       "      \n",
       "      <progress value='1032' max='1032' style='width:300px; height:20px; vertical-align: middle;'></progress>\n",
       "      [1032/1032 02:52]\n",
       "    </div>\n",
       "    "
      ],
      "text/plain": [
       "<IPython.core.display.HTML object>"
      ]
     },
     "metadata": {},
     "output_type": "display_data"
    }
   ],
   "source": [
    "# Evaluate on test dataset\n",
    "results = trainer.evaluate(test_dataset)\n",
    "torch.save(student_model.state_dict(), \"./results/roberta/fine_tune/distilled_model/student_model.pt\")\n",
    "# Get model size and number of parameters\n",
    "model_size = sum(p.numel() for p in student_model.parameters())\n",
    "model_size_mb = os.path.getsize(\"./results/roberta/fine_tune/distilled_model/student_model.pt\") / (1024 * 1024)\n",
    "\n",
    "# Prepare results and model info\n",
    "metrics = results.copy()  # Create a copy to add additional columns\n",
    "metrics[\"model_size_mb\"] = model_size_mb\n",
    "metrics[\"num_parameters\"] = model_size\n",
    "\n",
    "# Convert to DataFrame and save to CSV\n",
    "metrics_df = pd.DataFrame([metrics])\n",
    "metrics_df.to_csv(\"./results/roberta/fine_tune/distilled_model/metrics.csv\", index=False)\n"
   ]
  },
  {
   "cell_type": "code",
   "execution_count": null,
   "id": "2469f205-4a2c-40b6-a08f-3880e587d9b9",
   "metadata": {},
   "outputs": [],
   "source": []
  }
 ],
 "metadata": {
  "kernelspec": {
   "display_name": "Python 3 (ipykernel)",
   "language": "python",
   "name": "python3"
  },
  "language_info": {
   "codemirror_mode": {
    "name": "ipython",
    "version": 3
   },
   "file_extension": ".py",
   "mimetype": "text/x-python",
   "name": "python",
   "nbconvert_exporter": "python",
   "pygments_lexer": "ipython3",
   "version": "3.10.14"
  }
 },
 "nbformat": 4,
 "nbformat_minor": 5
}
